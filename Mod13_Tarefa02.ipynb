{
 "cells": [
  {
   "cell_type": "markdown",
   "metadata": {},
   "source": [
    "# EBAC - Regressão II - regressão múltipla\n",
    "\n",
    "## Tarefa I"
   ]
  },
  {
   "cell_type": "markdown",
   "metadata": {},
   "source": [
    "#### Previsão de renda II\n",
    "\n",
    "Vamos continuar trabalhando com a base 'previsao_de_renda.csv', que é a base do seu próximo projeto. Vamos usar os recursos que vimos até aqui nesta base.\n",
    "\n",
    "|variavel|descrição|\n",
    "|-|-|\n",
    "|data_ref                | Data de referência de coleta das variáveis |\n",
    "|index                   | Código de identificação do cliente|\n",
    "|sexo                    | Sexo do cliente|\n",
    "|posse_de_veiculo        | Indica se o cliente possui veículo|\n",
    "|posse_de_imovel         | Indica se o cliente possui imóvel|\n",
    "|qtd_filhos              | Quantidade de filhos do cliente|\n",
    "|tipo_renda              | Tipo de renda do cliente|\n",
    "|educacao                | Grau de instrução do cliente|\n",
    "|estado_civil            | Estado civil do cliente|\n",
    "|tipo_residencia         | Tipo de residência do cliente (própria, alugada etc)|\n",
    "|idade                   | Idade do cliente|\n",
    "|tempo_emprego           | Tempo no emprego atual|\n",
    "|qt_pessoas_residencia   | Quantidade de pessoas que moram na residência|\n",
    "|renda                   | Renda em reais|"
   ]
  },
  {
   "cell_type": "code",
   "execution_count": 55,
   "metadata": {},
   "outputs": [],
   "source": [
    "import pandas as pd\n",
    "\n",
    "from sklearn.model_selection import train_test_split\n",
    "from sklearn.impute import SimpleImputer\n",
    "from sklearn.linear_model import Ridge\n",
    "from sklearn.metrics import r2_score\n",
    "from sklearn.linear_model import Lasso\n",
    "from sklearn.feature_selection import SequentialFeatureSelector\n",
    "from sklearn.linear_model import LinearRegression\n",
    "from sklearn.tree import DecisionTreeRegressor"
   ]
  },
  {
   "cell_type": "code",
   "execution_count": 40,
   "metadata": {},
   "outputs": [],
   "source": [
    "df = pd.read_csv('previsao_de_renda.csv')"
   ]
  },
  {
   "cell_type": "code",
   "execution_count": 41,
   "metadata": {},
   "outputs": [
    {
     "name": "stdout",
     "output_type": "stream",
     "text": [
      "<class 'pandas.core.frame.DataFrame'>\n",
      "RangeIndex: 15000 entries, 0 to 14999\n",
      "Data columns (total 15 columns):\n",
      " #   Column                 Non-Null Count  Dtype  \n",
      "---  ------                 --------------  -----  \n",
      " 0   Unnamed: 0             15000 non-null  int64  \n",
      " 1   data_ref               15000 non-null  object \n",
      " 2   id_cliente             15000 non-null  int64  \n",
      " 3   sexo                   15000 non-null  object \n",
      " 4   posse_de_veiculo       15000 non-null  bool   \n",
      " 5   posse_de_imovel        15000 non-null  bool   \n",
      " 6   qtd_filhos             15000 non-null  int64  \n",
      " 7   tipo_renda             15000 non-null  object \n",
      " 8   educacao               15000 non-null  object \n",
      " 9   estado_civil           15000 non-null  object \n",
      " 10  tipo_residencia        15000 non-null  object \n",
      " 11  idade                  15000 non-null  int64  \n",
      " 12  tempo_emprego          12427 non-null  float64\n",
      " 13  qt_pessoas_residencia  15000 non-null  float64\n",
      " 14  renda                  15000 non-null  float64\n",
      "dtypes: bool(2), float64(3), int64(4), object(6)\n",
      "memory usage: 1.5+ MB\n"
     ]
    }
   ],
   "source": [
    "df.info()"
   ]
  },
  {
   "cell_type": "markdown",
   "metadata": {},
   "source": [
    "1. Separe a base em treinamento e teste (25% para teste, 75% para treinamento).\n",
    "2. Rode uma regularização *ridge* com alpha = [0, 0.001, 0.005, 0.01, 0.05, 0.1] e avalie o $R^2$ na base de testes. Qual o melhor modelo?\n",
    "3. Faça o mesmo que no passo 2, com uma regressão *LASSO*. Qual método chega a um melhor resultado?\n",
    "4. Rode um modelo *stepwise*. Avalie o $R^2$ na vase de testes. Qual o melhor resultado?\n",
    "5. Compare os parâmetros e avalie eventuais diferenças. Qual modelo você acha o melhor de todos?\n",
    "6. Partindo dos modelos que você ajustou, tente melhorar o $R^2$ na base de testes. Use a criatividade, veja se consegue inserir alguma transformação ou combinação de variáveis.\n",
    "7. Ajuste uma árvore de regressão e veja se consegue um $R^2$ melhor com ela."
   ]
  },
  {
   "cell_type": "code",
   "execution_count": 42,
   "metadata": {},
   "outputs": [
    {
     "data": {
      "text/plain": [
       "((11250, 11), (3750, 11))"
      ]
     },
     "execution_count": 42,
     "metadata": {},
     "output_type": "execute_result"
    }
   ],
   "source": [
    "# Definindo as variáveis preditoras (X) e alvo (y)\n",
    "X = df.drop(columns=['Unnamed: 0', 'id_cliente', 'renda', 'data_ref'])\n",
    "y = df['renda']\n",
    "\n",
    "# Separando em treino e teste (25% para teste, 75% para treinamento)\n",
    "X_train, X_test, y_train, y_test = train_test_split(X, y, test_size=0.25, random_state=42)\n",
    "\n",
    "(X_train.shape, X_test.shape)"
   ]
  },
  {
   "cell_type": "code",
   "execution_count": 43,
   "metadata": {},
   "outputs": [
    {
     "data": {
      "text/html": [
       "<div>\n",
       "<style scoped>\n",
       "    .dataframe tbody tr th:only-of-type {\n",
       "        vertical-align: middle;\n",
       "    }\n",
       "\n",
       "    .dataframe tbody tr th {\n",
       "        vertical-align: top;\n",
       "    }\n",
       "\n",
       "    .dataframe thead th {\n",
       "        text-align: right;\n",
       "    }\n",
       "</style>\n",
       "<table border=\"1\" class=\"dataframe\">\n",
       "  <thead>\n",
       "    <tr style=\"text-align: right;\">\n",
       "      <th></th>\n",
       "      <th>posse_de_veiculo</th>\n",
       "      <th>posse_de_imovel</th>\n",
       "      <th>qtd_filhos</th>\n",
       "      <th>idade</th>\n",
       "      <th>tempo_emprego</th>\n",
       "      <th>qt_pessoas_residencia</th>\n",
       "      <th>sexo_M</th>\n",
       "      <th>tipo_renda_Bolsista</th>\n",
       "      <th>tipo_renda_Empresário</th>\n",
       "      <th>tipo_renda_Pensionista</th>\n",
       "      <th>...</th>\n",
       "      <th>educacao_Superior incompleto</th>\n",
       "      <th>estado_civil_Separado</th>\n",
       "      <th>estado_civil_Solteiro</th>\n",
       "      <th>estado_civil_União</th>\n",
       "      <th>estado_civil_Viúvo</th>\n",
       "      <th>tipo_residencia_Casa</th>\n",
       "      <th>tipo_residencia_Com os pais</th>\n",
       "      <th>tipo_residencia_Comunitário</th>\n",
       "      <th>tipo_residencia_Estúdio</th>\n",
       "      <th>tipo_residencia_Governamental</th>\n",
       "    </tr>\n",
       "  </thead>\n",
       "  <tbody>\n",
       "    <tr>\n",
       "      <th>0</th>\n",
       "      <td>False</td>\n",
       "      <td>True</td>\n",
       "      <td>0</td>\n",
       "      <td>26</td>\n",
       "      <td>6.602740</td>\n",
       "      <td>1.0</td>\n",
       "      <td>False</td>\n",
       "      <td>False</td>\n",
       "      <td>True</td>\n",
       "      <td>False</td>\n",
       "      <td>...</td>\n",
       "      <td>False</td>\n",
       "      <td>False</td>\n",
       "      <td>True</td>\n",
       "      <td>False</td>\n",
       "      <td>False</td>\n",
       "      <td>True</td>\n",
       "      <td>False</td>\n",
       "      <td>False</td>\n",
       "      <td>False</td>\n",
       "      <td>False</td>\n",
       "    </tr>\n",
       "    <tr>\n",
       "      <th>1</th>\n",
       "      <td>True</td>\n",
       "      <td>True</td>\n",
       "      <td>0</td>\n",
       "      <td>28</td>\n",
       "      <td>7.183562</td>\n",
       "      <td>2.0</td>\n",
       "      <td>True</td>\n",
       "      <td>False</td>\n",
       "      <td>False</td>\n",
       "      <td>False</td>\n",
       "      <td>...</td>\n",
       "      <td>False</td>\n",
       "      <td>False</td>\n",
       "      <td>False</td>\n",
       "      <td>False</td>\n",
       "      <td>False</td>\n",
       "      <td>True</td>\n",
       "      <td>False</td>\n",
       "      <td>False</td>\n",
       "      <td>False</td>\n",
       "      <td>False</td>\n",
       "    </tr>\n",
       "    <tr>\n",
       "      <th>2</th>\n",
       "      <td>True</td>\n",
       "      <td>True</td>\n",
       "      <td>0</td>\n",
       "      <td>35</td>\n",
       "      <td>0.838356</td>\n",
       "      <td>2.0</td>\n",
       "      <td>False</td>\n",
       "      <td>False</td>\n",
       "      <td>True</td>\n",
       "      <td>False</td>\n",
       "      <td>...</td>\n",
       "      <td>False</td>\n",
       "      <td>False</td>\n",
       "      <td>False</td>\n",
       "      <td>False</td>\n",
       "      <td>False</td>\n",
       "      <td>True</td>\n",
       "      <td>False</td>\n",
       "      <td>False</td>\n",
       "      <td>False</td>\n",
       "      <td>False</td>\n",
       "    </tr>\n",
       "    <tr>\n",
       "      <th>3</th>\n",
       "      <td>False</td>\n",
       "      <td>True</td>\n",
       "      <td>1</td>\n",
       "      <td>30</td>\n",
       "      <td>4.846575</td>\n",
       "      <td>3.0</td>\n",
       "      <td>False</td>\n",
       "      <td>False</td>\n",
       "      <td>False</td>\n",
       "      <td>False</td>\n",
       "      <td>...</td>\n",
       "      <td>False</td>\n",
       "      <td>False</td>\n",
       "      <td>False</td>\n",
       "      <td>False</td>\n",
       "      <td>False</td>\n",
       "      <td>True</td>\n",
       "      <td>False</td>\n",
       "      <td>False</td>\n",
       "      <td>False</td>\n",
       "      <td>False</td>\n",
       "    </tr>\n",
       "    <tr>\n",
       "      <th>4</th>\n",
       "      <td>True</td>\n",
       "      <td>False</td>\n",
       "      <td>0</td>\n",
       "      <td>33</td>\n",
       "      <td>4.293151</td>\n",
       "      <td>1.0</td>\n",
       "      <td>True</td>\n",
       "      <td>False</td>\n",
       "      <td>False</td>\n",
       "      <td>False</td>\n",
       "      <td>...</td>\n",
       "      <td>False</td>\n",
       "      <td>False</td>\n",
       "      <td>True</td>\n",
       "      <td>False</td>\n",
       "      <td>False</td>\n",
       "      <td>False</td>\n",
       "      <td>False</td>\n",
       "      <td>False</td>\n",
       "      <td>False</td>\n",
       "      <td>True</td>\n",
       "    </tr>\n",
       "  </tbody>\n",
       "</table>\n",
       "<p>5 rows × 24 columns</p>\n",
       "</div>"
      ],
      "text/plain": [
       "   posse_de_veiculo  posse_de_imovel  qtd_filhos  idade  tempo_emprego  \\\n",
       "0             False             True           0     26       6.602740   \n",
       "1              True             True           0     28       7.183562   \n",
       "2              True             True           0     35       0.838356   \n",
       "3             False             True           1     30       4.846575   \n",
       "4              True            False           0     33       4.293151   \n",
       "\n",
       "   qt_pessoas_residencia  sexo_M  tipo_renda_Bolsista  tipo_renda_Empresário  \\\n",
       "0                    1.0   False                False                   True   \n",
       "1                    2.0    True                False                  False   \n",
       "2                    2.0   False                False                   True   \n",
       "3                    3.0   False                False                  False   \n",
       "4                    1.0    True                False                  False   \n",
       "\n",
       "   tipo_renda_Pensionista  ...  educacao_Superior incompleto  \\\n",
       "0                   False  ...                         False   \n",
       "1                   False  ...                         False   \n",
       "2                   False  ...                         False   \n",
       "3                   False  ...                         False   \n",
       "4                   False  ...                         False   \n",
       "\n",
       "   estado_civil_Separado  estado_civil_Solteiro  estado_civil_União  \\\n",
       "0                  False                   True               False   \n",
       "1                  False                  False               False   \n",
       "2                  False                  False               False   \n",
       "3                  False                  False               False   \n",
       "4                  False                   True               False   \n",
       "\n",
       "   estado_civil_Viúvo  tipo_residencia_Casa  tipo_residencia_Com os pais  \\\n",
       "0               False                  True                        False   \n",
       "1               False                  True                        False   \n",
       "2               False                  True                        False   \n",
       "3               False                  True                        False   \n",
       "4               False                 False                        False   \n",
       "\n",
       "   tipo_residencia_Comunitário  tipo_residencia_Estúdio  \\\n",
       "0                        False                    False   \n",
       "1                        False                    False   \n",
       "2                        False                    False   \n",
       "3                        False                    False   \n",
       "4                        False                    False   \n",
       "\n",
       "   tipo_residencia_Governamental  \n",
       "0                          False  \n",
       "1                          False  \n",
       "2                          False  \n",
       "3                          False  \n",
       "4                           True  \n",
       "\n",
       "[5 rows x 24 columns]"
      ]
     },
     "execution_count": 43,
     "metadata": {},
     "output_type": "execute_result"
    }
   ],
   "source": [
    "# Convertendo variáveis categóricas em variáveis dummies (one-hot encoding)\n",
    "X_encoded = pd.get_dummies(X, drop_first=True)\n",
    "\n",
    "# Verificando se a codificação funcionou corretamente\n",
    "X_encoded.head()"
   ]
  },
  {
   "cell_type": "code",
   "execution_count": 44,
   "metadata": {},
   "outputs": [],
   "source": [
    "alpha_values = [0, 0.001, 0.005, 0.01, 0.05, 0.1]"
   ]
  },
  {
   "cell_type": "code",
   "execution_count": 46,
   "metadata": {},
   "outputs": [
    {
     "data": {
      "text/plain": [
       "{0: 0.2691159056847583,\n",
       " 0.001: 0.2691159145559312,\n",
       " 0.005: 0.2691159500045429,\n",
       " 0.01: 0.26911599423430144,\n",
       " 0.05: 0.2691163448655334,\n",
       " 0.1: 0.26911677529614875}"
      ]
     },
     "execution_count": 46,
     "metadata": {},
     "output_type": "execute_result"
    }
   ],
   "source": [
    "# Criando o imputer para substituir valores ausentes (NaN) por médias das colunas\n",
    "imputer = SimpleImputer(strategy='mean')\n",
    "\n",
    "# Aplicando o imputer aos conjuntos de treino e teste\n",
    "X_train_imputed = imputer.fit_transform(X_train_encoded)\n",
    "X_test_imputed = imputer.transform(X_test_encoded)\n",
    "\n",
    "# Recalculando os scores com as variáveis imutadas\n",
    "ridge_scores = {}\n",
    "\n",
    "for alpha in alpha_values:\n",
    "    model = Ridge(alpha=alpha)\n",
    "    model.fit(X_train_imputed, y_train)\n",
    "    \n",
    "    y_pred = model.predict(X_test_imputed)\n",
    "    \n",
    "    r2 = r2_score(y_test, y_pred)\n",
    "    \n",
    "    ridge_scores[alpha] = r2\n",
    "\n",
    "ridge_scores"
   ]
  },
  {
   "cell_type": "code",
   "execution_count": 54,
   "metadata": {},
   "outputs": [
    {
     "name": "stderr",
     "output_type": "stream",
     "text": [
      "C:\\Users\\Matheus Cerqueira\\AppData\\Local\\Temp\\ipykernel_23328\\4123808859.py:8: UserWarning: With alpha=0, this algorithm does not converge well. You are advised to use the LinearRegression estimator\n",
      "  model.fit(X_train_imputed, y_train)\n",
      "E:\\Users\\Matheus Cerqueira\\anaconda3\\Lib\\site-packages\\sklearn\\linear_model\\_coordinate_descent.py:631: UserWarning: Coordinate descent with no regularization may lead to unexpected results and is discouraged.\n",
      "  model = cd_fast.enet_coordinate_descent(\n",
      "E:\\Users\\Matheus Cerqueira\\anaconda3\\Lib\\site-packages\\sklearn\\linear_model\\_coordinate_descent.py:631: ConvergenceWarning: Objective did not converge. You might want to increase the number of iterations, check the scale of the features or consider increasing regularisation. Duality gap: 2.858e+11, tolerance: 7.723e+07 Linear regression models with null weight for the l1 regularization term are more efficiently fitted using one of the solvers implemented in sklearn.linear_model.Ridge/RidgeCV instead.\n",
      "  model = cd_fast.enet_coordinate_descent(\n",
      "E:\\Users\\Matheus Cerqueira\\anaconda3\\Lib\\site-packages\\sklearn\\linear_model\\_coordinate_descent.py:631: ConvergenceWarning: Objective did not converge. You might want to increase the number of iterations, check the scale of the features or consider increasing regularisation. Duality gap: 2.805e+11, tolerance: 7.723e+07\n",
      "  model = cd_fast.enet_coordinate_descent(\n",
      "E:\\Users\\Matheus Cerqueira\\anaconda3\\Lib\\site-packages\\sklearn\\linear_model\\_coordinate_descent.py:631: ConvergenceWarning: Objective did not converge. You might want to increase the number of iterations, check the scale of the features or consider increasing regularisation. Duality gap: 2.603e+11, tolerance: 7.723e+07\n",
      "  model = cd_fast.enet_coordinate_descent(\n",
      "E:\\Users\\Matheus Cerqueira\\anaconda3\\Lib\\site-packages\\sklearn\\linear_model\\_coordinate_descent.py:631: ConvergenceWarning: Objective did not converge. You might want to increase the number of iterations, check the scale of the features or consider increasing regularisation. Duality gap: 2.373e+11, tolerance: 7.723e+07\n",
      "  model = cd_fast.enet_coordinate_descent(\n",
      "E:\\Users\\Matheus Cerqueira\\anaconda3\\Lib\\site-packages\\sklearn\\linear_model\\_coordinate_descent.py:631: ConvergenceWarning: Objective did not converge. You might want to increase the number of iterations, check the scale of the features or consider increasing regularisation. Duality gap: 1.172e+11, tolerance: 7.723e+07\n",
      "  model = cd_fast.enet_coordinate_descent(\n",
      "E:\\Users\\Matheus Cerqueira\\anaconda3\\Lib\\site-packages\\sklearn\\linear_model\\_coordinate_descent.py:631: ConvergenceWarning: Objective did not converge. You might want to increase the number of iterations, check the scale of the features or consider increasing regularisation. Duality gap: 5.021e+10, tolerance: 7.723e+07\n",
      "  model = cd_fast.enet_coordinate_descent(\n"
     ]
    },
    {
     "data": {
      "text/plain": [
       "{0: 0.2691159441765779,\n",
       " 0.001: 0.2691160348452796,\n",
       " 0.005: 0.2691163940799389,\n",
       " 0.01: 0.2691168353829293,\n",
       " 0.05: 0.26912005619351154,\n",
       " 0.1: 0.2691233081733694}"
      ]
     },
     "execution_count": 54,
     "metadata": {},
     "output_type": "execute_result"
    }
   ],
   "source": [
    "# Inicializando um dicionário para armazenar os scores\n",
    "lasso_scores = {}\n",
    "\n",
    "# Loop sobre os diferentes valores de alpha\n",
    "for alpha in alpha_values:\n",
    "    # Criando e ajustando o modelo Lasso\n",
    "    model = Lasso(alpha=alpha)\n",
    "    model.fit(X_train_imputed, y_train)\n",
    "    \n",
    "    # Predizendo no conjunto de teste\n",
    "    y_pred = model.predict(X_test_imputed)\n",
    "    \n",
    "    # Calculando o R-quadrado\n",
    "    r2 = r2_score(y_test, y_pred)\n",
    "    \n",
    "    # Armazenando os resultados\n",
    "    lasso_scores[alpha] = r2\n",
    "\n",
    "lasso_scores"
   ]
  },
  {
   "cell_type": "raw",
   "metadata": {},
   "source": [
    "Os valores R² são muito semelhantes aos encontrados na regressão Ridge. Portanto, ambos os métodos tiveram desempenho quase idêntico, mas a Ridge não apresentou os mesmos avisos de falta de convergência que surgiram com LASSO. ​"
   ]
  },
  {
   "cell_type": "code",
   "execution_count": 52,
   "metadata": {},
   "outputs": [
    {
     "data": {
      "text/plain": [
       "Index(['posse_de_imovel', 'idade', 'tempo_emprego', 'qt_pessoas_residencia',\n",
       "       'sexo_M', 'tipo_renda_Bolsista', 'tipo_renda_Empresário',\n",
       "       'tipo_renda_Pensionista', 'educacao_Superior completo',\n",
       "       'educacao_Superior incompleto', 'estado_civil_Solteiro',\n",
       "       'estado_civil_União'],\n",
       "      dtype='object')"
      ]
     },
     "execution_count": 52,
     "metadata": {},
     "output_type": "execute_result"
    }
   ],
   "source": [
    "# Criando o modelo de regressão linear\n",
    "linear_model = LinearRegression()\n",
    "\n",
    "# Configurando o SequentialFeatureSelector para seleção forward (forward stepwise selection)\n",
    "sfs = SequentialFeatureSelector(linear_model, n_features_to_select='auto', direction='forward', scoring='r2', cv=5)\n",
    "\n",
    "# Ajustando o modelo com seleção de variáveis no conjunto de treino\n",
    "sfs.fit(X_train_imputed, y_train)\n",
    "\n",
    "# Verificando as variáveis selecionadas\n",
    "selected_features = sfs.get_support()\n",
    "\n",
    "# Exibindo as variáveis selecionadas\n",
    "selected_column_names = X_encoded.columns[selected_features]\n",
    "selected_column_names\n"
   ]
  },
  {
   "cell_type": "code",
   "execution_count": 53,
   "metadata": {},
   "outputs": [
    {
     "data": {
      "text/plain": [
       "0.2697471820649183"
      ]
     },
     "execution_count": 53,
     "metadata": {},
     "output_type": "execute_result"
    }
   ],
   "source": [
    "# Aplicando o modelo com as variáveis selecionadas\n",
    "X_train_selected = X_train_imputed[:, selected_features]\n",
    "X_test_selected = X_test_imputed[:, selected_features]\n",
    "\n",
    "# Ajustando o modelo de regressão linear nas variáveis selecionadas\n",
    "linear_model.fit(X_train_selected, y_train)\n",
    "\n",
    "# Predizendo no conjunto de teste com as variáveis selecionadas\n",
    "y_pred_selected = linear_model.predict(X_test_selected)\n",
    "\n",
    "# Calculando o R-quadrado para o modelo com as variáveis selecionadas\n",
    "r2_selected = r2_score(y_test, y_pred_selected)\n",
    "r2_selected\n"
   ]
  },
  {
   "cell_type": "raw",
   "metadata": {},
   "source": [
    "O modelo de regressão linear com seleção stepwise obteve um R-quadrado de 0.2697 no conjunto de teste, que é ligeiramente melhor que os modelos Ridge e LASSO, ambos com melhores R-quadrados próximos de 0.2691."
   ]
  },
  {
   "cell_type": "code",
   "execution_count": 57,
   "metadata": {},
   "outputs": [
    {
     "data": {
      "text/plain": [
       "0.26042899259730756"
      ]
     },
     "execution_count": 57,
     "metadata": {},
     "output_type": "execute_result"
    }
   ],
   "source": [
    "# Criando e ajustando um modelo de árvore de decisão\n",
    "tree_model = DecisionTreeRegressor(random_state=42)\n",
    "tree_model.fit(X_train_imputed, y_train)\n",
    "\n",
    "# Fazendo previsões no conjunto de teste\n",
    "y_pred_tree = tree_model.predict(X_test_imputed)\n",
    "\n",
    "# Calculando o R-quadrado para a árvore de decisão\n",
    "r2_tree = r2_score(y_test, y_pred_tree)\n",
    "r2_tree\n"
   ]
  },
  {
   "cell_type": "raw",
   "metadata": {},
   "source": [
    "O modelo de árvore de regressão obteve um R-quadrado de 0.2604, um valor inferior ao dos modelos Ridge, LASSO e do modelo stepwise."
   ]
  }
 ],
 "metadata": {
  "kernelspec": {
   "display_name": "Python 3 (ipykernel)",
   "language": "python",
   "name": "python3"
  },
  "language_info": {
   "codemirror_mode": {
    "name": "ipython",
    "version": 3
   },
   "file_extension": ".py",
   "mimetype": "text/x-python",
   "name": "python",
   "nbconvert_exporter": "python",
   "pygments_lexer": "ipython3",
   "version": "3.11.7"
  }
 },
 "nbformat": 4,
 "nbformat_minor": 4
}
