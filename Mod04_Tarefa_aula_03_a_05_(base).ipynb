{
 "cells": [
  {
   "cell_type": "markdown",
   "metadata": {
    "id": "njUvbhQmC8-t"
   },
   "source": [
    "## Exercício 1: Vestibular\n",
    "\n",
    "Considere que a os dados gerados na célula abaixo contêm o número de acertos de 100 alunos em um vestibular para um curso de exatas, divididas pelos respectivos assuntos. Considere que cada assunto possui um número de questões conforme a tabela abaixo:\n",
    "\n",
    "| assunto | número de questões |\n",
    "|:---:|:---:|\n",
    "| Matemática | 24 |\n",
    "| Português | 18 |\n",
    "| Geografia | 8 |\n",
    "| Inglês | 8 |\n",
    "| História | 8 |\n",
    "| Física | 12 |\n",
    "| Química | 12 |\n",
    "\n",
    "Usando os comandos de operações com DataFrames que você aprendeu na Aula 03, calcule:\n",
    "\n",
    "1. (operações com escalar) Calcule o percentual de acerto dos alunos por assunto.  \n",
    "2. (operações entre *DataFrames) Calcule o total de acertos de cada aluno.  \n",
    "3. Calcule o porcentual geral de cada aluno.  \n",
    "4. Suponha que a nota de corte para a segunda fase seja 45. Quantos alunos tiveram nota maior que 45?  "
   ]
  },
  {
   "cell_type": "code",
   "execution_count": 31,
   "metadata": {
    "id": "Ll6TadxCC8-y"
   },
   "outputs": [],
   "source": [
    "import pandas as pd\n",
    "import numpy as np\n",
    "\n",
    "np.random.seed(42)\n",
    "df_mat = pd.DataFrame(np.random.randint(24, size=(100, 1)), columns=['Qt_acertos'])\n",
    "\n",
    "df_por = pd.DataFrame(np.random.randint(18, size=(100, 1)), columns=['Qt_acertos'])\n",
    "\n",
    "df_geo = pd.DataFrame(np.random.randint(8, size=(100, 1)), columns=['Qt_acertos'])\n",
    "\n",
    "df_ing = pd.DataFrame(np.random.randint(8, size=(100, 1)), columns=['Qt_acertos'])\n",
    "\n",
    "df_his = pd.DataFrame(np.random.randint(8, size=(100, 1)), columns=['Qt_acertos'])\n",
    "\n",
    "df_fis = pd.DataFrame(np.random.randint(12, size=(100, 1)), columns=['Qt_acertos'])\n",
    "\n",
    "df_qui = pd.DataFrame(np.random.randint(12, size=(100, 1)), columns=['Qt_acertos'])"
   ]
  },
  {
   "cell_type": "code",
   "execution_count": 68,
   "metadata": {
    "id": "JVmLXiC2C8-0"
   },
   "outputs": [],
   "source": [
    "# 1) Seu código aqui\n",
    "percentual_mat = (df_mat/24)*100\n",
    "percentual_por = (df_por/18)*100\n",
    "percentual_geo = (df_geo/8)*100\n",
    "percentual_ing = (df_ing/8)*100\n",
    "percentual_his = (df_his/8)*100\n",
    "percentual_fis = (df_fis/12)*100\n",
    "percentual_qui = (df_qui/12)*100"
   ]
  },
  {
   "cell_type": "code",
   "execution_count": 69,
   "metadata": {
    "id": "JbTwCyNHC8-1"
   },
   "outputs": [
    {
     "data": {
      "text/html": [
       "<div>\n",
       "<style scoped>\n",
       "    .dataframe tbody tr th:only-of-type {\n",
       "        vertical-align: middle;\n",
       "    }\n",
       "\n",
       "    .dataframe tbody tr th {\n",
       "        vertical-align: top;\n",
       "    }\n",
       "\n",
       "    .dataframe thead th {\n",
       "        text-align: right;\n",
       "    }\n",
       "</style>\n",
       "<table border=\"1\" class=\"dataframe\">\n",
       "  <thead>\n",
       "    <tr style=\"text-align: right;\">\n",
       "      <th></th>\n",
       "      <th>Qt_acertos</th>\n",
       "    </tr>\n",
       "  </thead>\n",
       "  <tbody>\n",
       "    <tr>\n",
       "      <th>0</th>\n",
       "      <td>35</td>\n",
       "    </tr>\n",
       "    <tr>\n",
       "      <th>1</th>\n",
       "      <td>48</td>\n",
       "    </tr>\n",
       "    <tr>\n",
       "      <th>2</th>\n",
       "      <td>50</td>\n",
       "    </tr>\n",
       "    <tr>\n",
       "      <th>3</th>\n",
       "      <td>32</td>\n",
       "    </tr>\n",
       "    <tr>\n",
       "      <th>4</th>\n",
       "      <td>30</td>\n",
       "    </tr>\n",
       "    <tr>\n",
       "      <th>...</th>\n",
       "      <td>...</td>\n",
       "    </tr>\n",
       "    <tr>\n",
       "      <th>95</th>\n",
       "      <td>34</td>\n",
       "    </tr>\n",
       "    <tr>\n",
       "      <th>96</th>\n",
       "      <td>27</td>\n",
       "    </tr>\n",
       "    <tr>\n",
       "      <th>97</th>\n",
       "      <td>40</td>\n",
       "    </tr>\n",
       "    <tr>\n",
       "      <th>98</th>\n",
       "      <td>40</td>\n",
       "    </tr>\n",
       "    <tr>\n",
       "      <th>99</th>\n",
       "      <td>42</td>\n",
       "    </tr>\n",
       "  </tbody>\n",
       "</table>\n",
       "<p>100 rows × 1 columns</p>\n",
       "</div>"
      ],
      "text/plain": [
       "    Qt_acertos\n",
       "0           35\n",
       "1           48\n",
       "2           50\n",
       "3           32\n",
       "4           30\n",
       "..         ...\n",
       "95          34\n",
       "96          27\n",
       "97          40\n",
       "98          40\n",
       "99          42\n",
       "\n",
       "[100 rows x 1 columns]"
      ]
     },
     "execution_count": 69,
     "metadata": {},
     "output_type": "execute_result"
    }
   ],
   "source": [
    "# 2) Seu código aqui\n",
    "total = df_mat + df_fis + df_geo + df_his + df_ing + df_por + df_qui\n",
    "total"
   ]
  },
  {
   "cell_type": "code",
   "execution_count": 47,
   "metadata": {
    "id": "c2L8dJkVC8-3"
   },
   "outputs": [
    {
     "data": {
      "text/html": [
       "<div>\n",
       "<style scoped>\n",
       "    .dataframe tbody tr th:only-of-type {\n",
       "        vertical-align: middle;\n",
       "    }\n",
       "\n",
       "    .dataframe tbody tr th {\n",
       "        vertical-align: top;\n",
       "    }\n",
       "\n",
       "    .dataframe thead th {\n",
       "        text-align: right;\n",
       "    }\n",
       "</style>\n",
       "<table border=\"1\" class=\"dataframe\">\n",
       "  <thead>\n",
       "    <tr style=\"text-align: right;\">\n",
       "      <th></th>\n",
       "      <th>Qt_acertos</th>\n",
       "    </tr>\n",
       "  </thead>\n",
       "  <tbody>\n",
       "    <tr>\n",
       "      <th>0</th>\n",
       "      <td>0.388889</td>\n",
       "    </tr>\n",
       "    <tr>\n",
       "      <th>1</th>\n",
       "      <td>0.533333</td>\n",
       "    </tr>\n",
       "    <tr>\n",
       "      <th>2</th>\n",
       "      <td>0.555556</td>\n",
       "    </tr>\n",
       "    <tr>\n",
       "      <th>3</th>\n",
       "      <td>0.355556</td>\n",
       "    </tr>\n",
       "    <tr>\n",
       "      <th>4</th>\n",
       "      <td>0.333333</td>\n",
       "    </tr>\n",
       "    <tr>\n",
       "      <th>...</th>\n",
       "      <td>...</td>\n",
       "    </tr>\n",
       "    <tr>\n",
       "      <th>95</th>\n",
       "      <td>0.377778</td>\n",
       "    </tr>\n",
       "    <tr>\n",
       "      <th>96</th>\n",
       "      <td>0.300000</td>\n",
       "    </tr>\n",
       "    <tr>\n",
       "      <th>97</th>\n",
       "      <td>0.444444</td>\n",
       "    </tr>\n",
       "    <tr>\n",
       "      <th>98</th>\n",
       "      <td>0.444444</td>\n",
       "    </tr>\n",
       "    <tr>\n",
       "      <th>99</th>\n",
       "      <td>0.466667</td>\n",
       "    </tr>\n",
       "  </tbody>\n",
       "</table>\n",
       "<p>100 rows × 1 columns</p>\n",
       "</div>"
      ],
      "text/plain": [
       "    Qt_acertos\n",
       "0     0.388889\n",
       "1     0.533333\n",
       "2     0.555556\n",
       "3     0.355556\n",
       "4     0.333333\n",
       "..         ...\n",
       "95    0.377778\n",
       "96    0.300000\n",
       "97    0.444444\n",
       "98    0.444444\n",
       "99    0.466667\n",
       "\n",
       "[100 rows x 1 columns]"
      ]
     },
     "execution_count": 47,
     "metadata": {},
     "output_type": "execute_result"
    }
   ],
   "source": [
    "# 3) Seu código aqui\n",
    "total/90"
   ]
  },
  {
   "cell_type": "code",
   "execution_count": 51,
   "metadata": {
    "id": "PZTZ7DFzC8-3"
   },
   "outputs": [
    {
     "data": {
      "text/plain": [
       "Qt_acertos    31\n",
       "dtype: int64"
      ]
     },
     "execution_count": 51,
     "metadata": {},
     "output_type": "execute_result"
    }
   ],
   "source": [
    "# 4) Seu código aqui\n",
    "corte_45 = total[total['Qt_acertos']>45]\n",
    "corte_45.count()\n"
   ]
  },
  {
   "cell_type": "markdown",
   "metadata": {
    "id": "Hlfl75XXC8-4"
   },
   "source": [
    "## 2) Vestibular II\n",
    "\n",
    "Ainda sobre o mesmo banco de dados:\n",
    "\n",
    "1. Neste vestibular, quem 'zera' em matemática, física ou química está desqualificado. Monte um novo *DataFrame* com os alunos desqualificados por este critério.\n",
    "2. Quantos são esses alunos?\n",
    "3. Qual a média desses alunos em história e geografia?\n",
    "4. Monte um *DataFrame* com os alunos que passaram para a segunda fase. Repare que estes alunos não podem ter sido desqualificados."
   ]
  },
  {
   "cell_type": "code",
   "execution_count": 71,
   "metadata": {
    "id": "hPaMGXvJC8-4"
   },
   "outputs": [
    {
     "data": {
      "text/html": [
       "<div>\n",
       "<style scoped>\n",
       "    .dataframe tbody tr th:only-of-type {\n",
       "        vertical-align: middle;\n",
       "    }\n",
       "\n",
       "    .dataframe tbody tr th {\n",
       "        vertical-align: top;\n",
       "    }\n",
       "\n",
       "    .dataframe thead th {\n",
       "        text-align: right;\n",
       "    }\n",
       "</style>\n",
       "<table border=\"1\" class=\"dataframe\">\n",
       "  <thead>\n",
       "    <tr style=\"text-align: right;\">\n",
       "      <th></th>\n",
       "      <th>Qt_acertos</th>\n",
       "    </tr>\n",
       "  </thead>\n",
       "  <tbody>\n",
       "    <tr>\n",
       "      <th>3</th>\n",
       "      <td>32</td>\n",
       "    </tr>\n",
       "    <tr>\n",
       "      <th>6</th>\n",
       "      <td>29</td>\n",
       "    </tr>\n",
       "    <tr>\n",
       "      <th>10</th>\n",
       "      <td>31</td>\n",
       "    </tr>\n",
       "    <tr>\n",
       "      <th>12</th>\n",
       "      <td>42</td>\n",
       "    </tr>\n",
       "    <tr>\n",
       "      <th>14</th>\n",
       "      <td>31</td>\n",
       "    </tr>\n",
       "    <tr>\n",
       "      <th>20</th>\n",
       "      <td>53</td>\n",
       "    </tr>\n",
       "    <tr>\n",
       "      <th>25</th>\n",
       "      <td>27</td>\n",
       "    </tr>\n",
       "    <tr>\n",
       "      <th>26</th>\n",
       "      <td>40</td>\n",
       "    </tr>\n",
       "    <tr>\n",
       "      <th>27</th>\n",
       "      <td>50</td>\n",
       "    </tr>\n",
       "    <tr>\n",
       "      <th>33</th>\n",
       "      <td>39</td>\n",
       "    </tr>\n",
       "    <tr>\n",
       "      <th>35</th>\n",
       "      <td>48</td>\n",
       "    </tr>\n",
       "    <tr>\n",
       "      <th>49</th>\n",
       "      <td>19</td>\n",
       "    </tr>\n",
       "    <tr>\n",
       "      <th>56</th>\n",
       "      <td>39</td>\n",
       "    </tr>\n",
       "    <tr>\n",
       "      <th>65</th>\n",
       "      <td>24</td>\n",
       "    </tr>\n",
       "    <tr>\n",
       "      <th>66</th>\n",
       "      <td>31</td>\n",
       "    </tr>\n",
       "    <tr>\n",
       "      <th>72</th>\n",
       "      <td>50</td>\n",
       "    </tr>\n",
       "    <tr>\n",
       "      <th>73</th>\n",
       "      <td>37</td>\n",
       "    </tr>\n",
       "    <tr>\n",
       "      <th>74</th>\n",
       "      <td>39</td>\n",
       "    </tr>\n",
       "    <tr>\n",
       "      <th>84</th>\n",
       "      <td>26</td>\n",
       "    </tr>\n",
       "    <tr>\n",
       "      <th>89</th>\n",
       "      <td>63</td>\n",
       "    </tr>\n",
       "    <tr>\n",
       "      <th>92</th>\n",
       "      <td>40</td>\n",
       "    </tr>\n",
       "    <tr>\n",
       "      <th>94</th>\n",
       "      <td>25</td>\n",
       "    </tr>\n",
       "    <tr>\n",
       "      <th>98</th>\n",
       "      <td>40</td>\n",
       "    </tr>\n",
       "  </tbody>\n",
       "</table>\n",
       "</div>"
      ],
      "text/plain": [
       "    Qt_acertos\n",
       "3           32\n",
       "6           29\n",
       "10          31\n",
       "12          42\n",
       "14          31\n",
       "20          53\n",
       "25          27\n",
       "26          40\n",
       "27          50\n",
       "33          39\n",
       "35          48\n",
       "49          19\n",
       "56          39\n",
       "65          24\n",
       "66          31\n",
       "72          50\n",
       "73          37\n",
       "74          39\n",
       "84          26\n",
       "89          63\n",
       "92          40\n",
       "94          25\n",
       "98          40"
      ]
     },
     "execution_count": 71,
     "metadata": {},
     "output_type": "execute_result"
    }
   ],
   "source": [
    "# seu código aqui\n",
    "df_desqualificado = total[(df_mat['Qt_acertos'] == 0) | \n",
    "                      (df_fis['Qt_acertos'] == 0) | \n",
    "                      (df_qui['Qt_acertos'] == 0)]\n",
    "df_desqualificado\n"
   ]
  },
  {
   "cell_type": "code",
   "execution_count": 82,
   "metadata": {},
   "outputs": [
    {
     "data": {
      "text/plain": [
       "(23,)"
      ]
     },
     "execution_count": 82,
     "metadata": {},
     "output_type": "execute_result"
    }
   ],
   "source": [
    "df_desqualificado['Qt_acertos'].shape"
   ]
  },
  {
   "cell_type": "markdown",
   "metadata": {
    "id": "EGBUWpAHC8-5"
   },
   "source": [
    "## 3) Vacinações no Acre\n",
    "Vamos trabalhar agora com a base de vacinações no Acre. Para facilitar a sua vida, copiamos o link do arquivo na célula abaixo.\n",
    "\n",
    "1. Quantas vacinas estão registradas nessa base?  \n",
    "2. Quantos pacientes foram vacinados? (considere um paciente para cada valor único de ```paciente_id```)  \n",
    "3. Quantos pacientes únicos tomaram a primeira dose? OBS: Há um caractere especial neste campo. Receba os valores do campo com o método ```.unique()```.   \n",
    "4. Quantos pacientes com menos de 18 anos foram vacinados?  \n",
    "5. Quantos estabelecimentos aplicaram vacina no Acre?\n",
    "\n",
    "\n",
    "**OBS:** O portal do DATASUS pode apresentar instabilidades, retornando um erro na segunda célula abaixo. Por este motivo está disponível uma base estática, que se for baixada para o seu *working directory* pode ser lida com este comando: ```df = pd.read_csv('registros de vacinacao covid ACRE.csv', sep=';')```.\n",
    "\n",
    "**OBS2:** Para saber qual é o seu working directory, rode no jupyter: ```!pwd```."
   ]
  },
  {
   "cell_type": "code",
   "execution_count": 142,
   "metadata": {
    "id": "ET4r139hC8-5"
   },
   "outputs": [],
   "source": [
    "arquivo = 'https://s3.sa-east-1.amazonaws.com/ckan.saude.gov.br/SIPNI/COVID/uf/uf%3DAC/part-00004-4067d89c-54bd-4f0b-8f71-073b4b4710da.c000.csv'"
   ]
  },
  {
   "cell_type": "code",
   "execution_count": 151,
   "metadata": {},
   "outputs": [
    {
     "data": {
      "text/html": [
       "<div>\n",
       "<style scoped>\n",
       "    .dataframe tbody tr th:only-of-type {\n",
       "        vertical-align: middle;\n",
       "    }\n",
       "\n",
       "    .dataframe tbody tr th {\n",
       "        vertical-align: top;\n",
       "    }\n",
       "\n",
       "    .dataframe thead th {\n",
       "        text-align: right;\n",
       "    }\n",
       "</style>\n",
       "<table border=\"1\" class=\"dataframe\">\n",
       "  <thead>\n",
       "    <tr style=\"text-align: right;\">\n",
       "      <th></th>\n",
       "      <th>document_id</th>\n",
       "      <th>paciente_id</th>\n",
       "      <th>paciente_idade</th>\n",
       "      <th>paciente_dataNascimento</th>\n",
       "      <th>paciente_enumSexoBiologico</th>\n",
       "      <th>paciente_racaCor_codigo</th>\n",
       "      <th>paciente_racaCor_valor</th>\n",
       "      <th>paciente_endereco_coIbgeMunicipio</th>\n",
       "      <th>paciente_endereco_coPais</th>\n",
       "      <th>paciente_endereco_nmMunicipio</th>\n",
       "      <th>...</th>\n",
       "      <th>vacina_categoria_codigo</th>\n",
       "      <th>vacina_categoria_nome</th>\n",
       "      <th>vacina_lote</th>\n",
       "      <th>vacina_fabricante_nome</th>\n",
       "      <th>vacina_fabricante_referencia</th>\n",
       "      <th>vacina_dataAplicacao</th>\n",
       "      <th>vacina_descricao_dose</th>\n",
       "      <th>vacina_codigo</th>\n",
       "      <th>vacina_nome</th>\n",
       "      <th>sistema_origem</th>\n",
       "    </tr>\n",
       "  </thead>\n",
       "  <tbody>\n",
       "    <tr>\n",
       "      <th>0</th>\n",
       "      <td>5c6a4571-59b9-4aca-b0db-66f06b788905-i0b0</td>\n",
       "      <td>4e70fefd4d3eb39084fcb7b438638b379a4f7b5a1b5f01...</td>\n",
       "      <td>46</td>\n",
       "      <td>1974-09-17</td>\n",
       "      <td>M</td>\n",
       "      <td>4</td>\n",
       "      <td>AMARELA</td>\n",
       "      <td>110020.0</td>\n",
       "      <td>10.0</td>\n",
       "      <td>PORTO VELHO</td>\n",
       "      <td>...</td>\n",
       "      <td>2.0</td>\n",
       "      <td>Faixa Etária</td>\n",
       "      <td>217VCD227Z</td>\n",
       "      <td>ASTRAZENECA/FIOCRUZ</td>\n",
       "      <td>Organization/33781055000135</td>\n",
       "      <td>2021-08-25</td>\n",
       "      <td>2ª Dose</td>\n",
       "      <td>85</td>\n",
       "      <td>COVID-19 ASTRAZENECA/FIOCRUZ - COVISHIELD</td>\n",
       "      <td>Novo PNI</td>\n",
       "    </tr>\n",
       "    <tr>\n",
       "      <th>1</th>\n",
       "      <td>d1d27477-3084-4233-bac0-cda2283e6ee1-i0b0</td>\n",
       "      <td>0aad677872b921c187a9a262e8a6ea02fefa4b652afe9d...</td>\n",
       "      <td>40</td>\n",
       "      <td>1982-03-02</td>\n",
       "      <td>F</td>\n",
       "      <td>3</td>\n",
       "      <td>PARDA</td>\n",
       "      <td>120013.0</td>\n",
       "      <td>10.0</td>\n",
       "      <td>BUJARI</td>\n",
       "      <td>...</td>\n",
       "      <td>2.0</td>\n",
       "      <td>Faixa Etária</td>\n",
       "      <td>219VCD292Z</td>\n",
       "      <td>ASTRAZENECA/FIOCRUZ</td>\n",
       "      <td>Organization/149</td>\n",
       "      <td>2022-03-17</td>\n",
       "      <td>2ª Dose</td>\n",
       "      <td>85</td>\n",
       "      <td>COVID-19 ASTRAZENECA/FIOCRUZ - COVISHIELD</td>\n",
       "      <td>Novo PNI</td>\n",
       "    </tr>\n",
       "    <tr>\n",
       "      <th>2</th>\n",
       "      <td>92d44112-2e58-42a2-8e2f-5a17f1ff9cba-i0b0</td>\n",
       "      <td>d4fe5d63e27e1d7ee6cfc67fa6e64a672d68854f7f5c36...</td>\n",
       "      <td>16</td>\n",
       "      <td>2005-06-28</td>\n",
       "      <td>F</td>\n",
       "      <td>1</td>\n",
       "      <td>BRANCA</td>\n",
       "      <td>120040.0</td>\n",
       "      <td>10.0</td>\n",
       "      <td>RIO BRANCO</td>\n",
       "      <td>...</td>\n",
       "      <td>2.0</td>\n",
       "      <td>Faixa Etária</td>\n",
       "      <td>FF8842</td>\n",
       "      <td>PFIZER</td>\n",
       "      <td>Organization/00394544000851</td>\n",
       "      <td>2021-09-30</td>\n",
       "      <td>2ª Dose</td>\n",
       "      <td>87</td>\n",
       "      <td>COVID-19 PFIZER - COMIRNATY</td>\n",
       "      <td>Novo PNI</td>\n",
       "    </tr>\n",
       "    <tr>\n",
       "      <th>3</th>\n",
       "      <td>d1d48436-86a7-4729-a727-dada3f3e803c-i0b0</td>\n",
       "      <td>eed33c0a5388101914ec5ae9f33cd10ff221606d5568d8...</td>\n",
       "      <td>41</td>\n",
       "      <td>1980-04-12</td>\n",
       "      <td>F</td>\n",
       "      <td>1</td>\n",
       "      <td>BRANCA</td>\n",
       "      <td>120060.0</td>\n",
       "      <td>10.0</td>\n",
       "      <td>TARAUACA</td>\n",
       "      <td>...</td>\n",
       "      <td>2.0</td>\n",
       "      <td>Faixa Etária</td>\n",
       "      <td>214VCD053W</td>\n",
       "      <td>ASTRAZENECA/FIOCRUZ</td>\n",
       "      <td>Organization/33781055000135</td>\n",
       "      <td>2021-06-28</td>\n",
       "      <td>1ª Dose</td>\n",
       "      <td>85</td>\n",
       "      <td>COVID-19 ASTRAZENECA/FIOCRUZ - COVISHIELD</td>\n",
       "      <td>Novo PNI</td>\n",
       "    </tr>\n",
       "    <tr>\n",
       "      <th>4</th>\n",
       "      <td>1f0ba238-def9-4f4f-bb81-2d04ca030db3-i0b0</td>\n",
       "      <td>fabb130db67f7a15847967918c01abbe25d920056b2fbc...</td>\n",
       "      <td>13</td>\n",
       "      <td>2008-05-01</td>\n",
       "      <td>F</td>\n",
       "      <td>5</td>\n",
       "      <td>INDIGENA</td>\n",
       "      <td>120050.0</td>\n",
       "      <td>10.0</td>\n",
       "      <td>SENA MADUREIRA</td>\n",
       "      <td>...</td>\n",
       "      <td>7.0</td>\n",
       "      <td>Povos Indígenas</td>\n",
       "      <td>FJ4187</td>\n",
       "      <td>PFIZER</td>\n",
       "      <td>Organization/28290</td>\n",
       "      <td>2022-01-25</td>\n",
       "      <td>1ª Dose</td>\n",
       "      <td>87</td>\n",
       "      <td>COVID-19 PFIZER - COMIRNATY</td>\n",
       "      <td>Novo PNI</td>\n",
       "    </tr>\n",
       "  </tbody>\n",
       "</table>\n",
       "<p>5 rows × 32 columns</p>\n",
       "</div>"
      ],
      "text/plain": [
       "                                 document_id  \\\n",
       "0  5c6a4571-59b9-4aca-b0db-66f06b788905-i0b0   \n",
       "1  d1d27477-3084-4233-bac0-cda2283e6ee1-i0b0   \n",
       "2  92d44112-2e58-42a2-8e2f-5a17f1ff9cba-i0b0   \n",
       "3  d1d48436-86a7-4729-a727-dada3f3e803c-i0b0   \n",
       "4  1f0ba238-def9-4f4f-bb81-2d04ca030db3-i0b0   \n",
       "\n",
       "                                         paciente_id  paciente_idade  \\\n",
       "0  4e70fefd4d3eb39084fcb7b438638b379a4f7b5a1b5f01...              46   \n",
       "1  0aad677872b921c187a9a262e8a6ea02fefa4b652afe9d...              40   \n",
       "2  d4fe5d63e27e1d7ee6cfc67fa6e64a672d68854f7f5c36...              16   \n",
       "3  eed33c0a5388101914ec5ae9f33cd10ff221606d5568d8...              41   \n",
       "4  fabb130db67f7a15847967918c01abbe25d920056b2fbc...              13   \n",
       "\n",
       "  paciente_dataNascimento paciente_enumSexoBiologico  paciente_racaCor_codigo  \\\n",
       "0              1974-09-17                          M                        4   \n",
       "1              1982-03-02                          F                        3   \n",
       "2              2005-06-28                          F                        1   \n",
       "3              1980-04-12                          F                        1   \n",
       "4              2008-05-01                          F                        5   \n",
       "\n",
       "  paciente_racaCor_valor  paciente_endereco_coIbgeMunicipio  \\\n",
       "0                AMARELA                           110020.0   \n",
       "1                  PARDA                           120013.0   \n",
       "2                 BRANCA                           120040.0   \n",
       "3                 BRANCA                           120060.0   \n",
       "4               INDIGENA                           120050.0   \n",
       "\n",
       "   paciente_endereco_coPais paciente_endereco_nmMunicipio  ...  \\\n",
       "0                      10.0                   PORTO VELHO  ...   \n",
       "1                      10.0                        BUJARI  ...   \n",
       "2                      10.0                    RIO BRANCO  ...   \n",
       "3                      10.0                      TARAUACA  ...   \n",
       "4                      10.0                SENA MADUREIRA  ...   \n",
       "\n",
       "  vacina_categoria_codigo vacina_categoria_nome  vacina_lote  \\\n",
       "0                     2.0          Faixa Etária   217VCD227Z   \n",
       "1                     2.0          Faixa Etária   219VCD292Z   \n",
       "2                     2.0          Faixa Etária       FF8842   \n",
       "3                     2.0          Faixa Etária   214VCD053W   \n",
       "4                     7.0       Povos Indígenas       FJ4187   \n",
       "\n",
       "  vacina_fabricante_nome  vacina_fabricante_referencia vacina_dataAplicacao  \\\n",
       "0    ASTRAZENECA/FIOCRUZ   Organization/33781055000135           2021-08-25   \n",
       "1    ASTRAZENECA/FIOCRUZ              Organization/149           2022-03-17   \n",
       "2                 PFIZER   Organization/00394544000851           2021-09-30   \n",
       "3    ASTRAZENECA/FIOCRUZ   Organization/33781055000135           2021-06-28   \n",
       "4                 PFIZER            Organization/28290           2022-01-25   \n",
       "\n",
       "  vacina_descricao_dose  vacina_codigo  \\\n",
       "0               2ª Dose             85   \n",
       "1               2ª Dose             85   \n",
       "2               2ª Dose             87   \n",
       "3               1ª Dose             85   \n",
       "4               1ª Dose             87   \n",
       "\n",
       "                                 vacina_nome sistema_origem  \n",
       "0  COVID-19 ASTRAZENECA/FIOCRUZ - COVISHIELD       Novo PNI  \n",
       "1  COVID-19 ASTRAZENECA/FIOCRUZ - COVISHIELD       Novo PNI  \n",
       "2                COVID-19 PFIZER - COMIRNATY       Novo PNI  \n",
       "3  COVID-19 ASTRAZENECA/FIOCRUZ - COVISHIELD       Novo PNI  \n",
       "4                COVID-19 PFIZER - COMIRNATY       Novo PNI  \n",
       "\n",
       "[5 rows x 32 columns]"
      ]
     },
     "execution_count": 151,
     "metadata": {},
     "output_type": "execute_result"
    }
   ],
   "source": [
    "# 1)\n",
    "df = pd.read_csv(arquivo, sep=';')\n",
    "df.head()"
   ]
  },
  {
   "cell_type": "code",
   "execution_count": 144,
   "metadata": {},
   "outputs": [
    {
     "data": {
      "text/plain": [
       "382950"
      ]
     },
     "execution_count": 144,
     "metadata": {},
     "output_type": "execute_result"
    }
   ],
   "source": [
    "df.shape[0]"
   ]
  },
  {
   "cell_type": "code",
   "execution_count": 145,
   "metadata": {
    "id": "PMztY1RlC8-7"
   },
   "outputs": [
    {
     "data": {
      "text/plain": [
       "313397"
      ]
     },
     "execution_count": 145,
     "metadata": {},
     "output_type": "execute_result"
    }
   ],
   "source": [
    "# 2)\n",
    "df['paciente_id'].nunique()"
   ]
  },
  {
   "cell_type": "code",
   "execution_count": 146,
   "metadata": {
    "id": "V_wr--3JC8-7"
   },
   "outputs": [
    {
     "data": {
      "text/plain": [
       "'1ª Dose'"
      ]
     },
     "execution_count": 146,
     "metadata": {},
     "output_type": "execute_result"
    }
   ],
   "source": [
    "# 3)\n",
    "primeira_dose = df['vacina_descricao_dose'].unique()[1]\n",
    "primeira_dose"
   ]
  },
  {
   "cell_type": "code",
   "execution_count": 147,
   "metadata": {},
   "outputs": [
    {
     "data": {
      "text/plain": [
       "142040"
      ]
     },
     "execution_count": 147,
     "metadata": {},
     "output_type": "execute_result"
    }
   ],
   "source": [
    "df['paciente_id'].loc[df['vacina_descricao_dose'] == primeira_dose].nunique()"
   ]
  },
  {
   "cell_type": "code",
   "execution_count": 148,
   "metadata": {
    "id": "S6ab9ExEC8-7"
   },
   "outputs": [
    {
     "data": {
      "text/plain": [
       "66420"
      ]
     },
     "execution_count": 148,
     "metadata": {},
     "output_type": "execute_result"
    }
   ],
   "source": [
    "# 4)\n",
    "df_menor = df[df[\"paciente_idade\"]<18]\n",
    "df_menor['paciente_id'].nunique()"
   ]
  },
  {
   "cell_type": "code",
   "execution_count": 152,
   "metadata": {
    "id": "PVrY_-qlC8-8"
   },
   "outputs": [
    {
     "data": {
      "text/plain": [
       "57"
      ]
     },
     "execution_count": 152,
     "metadata": {},
     "output_type": "execute_result"
    }
   ],
   "source": [
    "# 5)\n",
    "\n",
    "df['estabelecimento_razaoSocial'].nunique()"
   ]
  },
  {
   "cell_type": "markdown",
   "metadata": {
    "id": "LH1LSYvGC8-8"
   },
   "source": [
    "## 4) Vacinação II\n",
    "Gere um *DataFrame* que contenha somente os estabelecimentos que aplicaram vcinas a menores de 18 anos. Nesse *DataFrame* devem conter somente os dados dos estabelecimentos, mais uma coluna sendo a quantidade de vacinas que o estabelecimento aplicou a menores de 18 anos.  \n",
    "  \n",
    "1. crie uma cópia do *DataFrame* original, contendo somente os registros de vacinas realizadas a menores de 18 anos.  \n",
    "2. crie uma lista das colunas desse *DataFrame* com o atributo de *DataFrame* **.columns()**  \n",
    "3. Nesse *DataFrame* faça uma contagem do campo ```vacina_categoria_nome```.\n",
    "3. a partir da lista de colunas, escolha somente aquelas que são referentes ao estabelecimento, faça uma lista com esses valores.  \n",
    "4. usando o método *.loc*, selecione somente essas variáveis  \n",
    "5. Aplique o método **.drop_duplicates** e crie uma lista com uma linha para cada estabelecimento, com os dados do estabelecimento  "
   ]
  },
  {
   "cell_type": "code",
   "execution_count": 154,
   "metadata": {
    "id": "3ojs12vUC8-8"
   },
   "outputs": [],
   "source": [
    "# 1) \n",
    "df_menor = df[df[\"paciente_idade\"]<18].copy()"
   ]
  },
  {
   "cell_type": "code",
   "execution_count": 155,
   "metadata": {
    "id": "sLyevPRBC8-8"
   },
   "outputs": [
    {
     "data": {
      "text/plain": [
       "Index(['document_id', 'paciente_id', 'paciente_idade',\n",
       "       'paciente_dataNascimento', 'paciente_enumSexoBiologico',\n",
       "       'paciente_racaCor_codigo', 'paciente_racaCor_valor',\n",
       "       'paciente_endereco_coIbgeMunicipio', 'paciente_endereco_coPais',\n",
       "       'paciente_endereco_nmMunicipio', 'paciente_endereco_nmPais',\n",
       "       'paciente_endereco_uf', 'paciente_endereco_cep',\n",
       "       'paciente_nacionalidade_enumNacionalidade', 'estabelecimento_valor',\n",
       "       'estabelecimento_razaoSocial', 'estalecimento_noFantasia',\n",
       "       'estabelecimento_municipio_codigo', 'estabelecimento_municipio_nome',\n",
       "       'estabelecimento_uf', 'vacina_grupoAtendimento_codigo',\n",
       "       'vacina_grupoAtendimento_nome', 'vacina_categoria_codigo',\n",
       "       'vacina_categoria_nome', 'vacina_lote', 'vacina_fabricante_nome',\n",
       "       'vacina_fabricante_referencia', 'vacina_dataAplicacao',\n",
       "       'vacina_descricao_dose', 'vacina_codigo', 'vacina_nome',\n",
       "       'sistema_origem'],\n",
       "      dtype='object')"
      ]
     },
     "execution_count": 155,
     "metadata": {},
     "output_type": "execute_result"
    }
   ],
   "source": [
    "# 2) \n",
    "df_menor.columns"
   ]
  },
  {
   "cell_type": "code",
   "execution_count": 156,
   "metadata": {
    "id": "lZAW-Dp8C8-8"
   },
   "outputs": [
    {
     "data": {
      "text/plain": [
       "vacina_categoria_nome\n",
       "Faixa Etária                                       45892\n",
       "Povos Indígenas                                     4318\n",
       "Outros                                              3735\n",
       "Povos e Comunidades Tradicionais                     875\n",
       "Trabalhadores de Saúde                               235\n",
       "População Privada de Liberdade                        64\n",
       "Comorbidades                                          47\n",
       "Gestantes                                             44\n",
       "Pessoas com Deficiência                                5\n",
       "Pessoas Institucionalizadas                            3\n",
       "Trabalhadores Industriais                              2\n",
       "Trabalhadores da Educação                              2\n",
       "Puérperas                                              1\n",
       "Funcionário do Sistema de Privação de Liberdade        1\n",
       "Name: count, dtype: int64"
      ]
     },
     "execution_count": 156,
     "metadata": {},
     "output_type": "execute_result"
    }
   ],
   "source": [
    "# 3)\n",
    "df_menor['vacina_categoria_nome'].value_counts()"
   ]
  },
  {
   "cell_type": "code",
   "execution_count": 163,
   "metadata": {
    "id": "xxYsxrxAC8-8"
   },
   "outputs": [],
   "source": [
    "# 4)\n",
    "lista_variaveis = ['estabelecimento_valor',\n",
    "       'estabelecimento_razaoSocial', 'estalecimento_noFantasia',\n",
    "       'estabelecimento_municipio_codigo', 'estabelecimento_municipio_nome',\n",
    "       'estabelecimento_uf']\n"
   ]
  },
  {
   "cell_type": "code",
   "execution_count": 164,
   "metadata": {
    "id": "vaX2x_0rC8-8"
   },
   "outputs": [
    {
     "data": {
      "text/html": [
       "<div>\n",
       "<style scoped>\n",
       "    .dataframe tbody tr th:only-of-type {\n",
       "        vertical-align: middle;\n",
       "    }\n",
       "\n",
       "    .dataframe tbody tr th {\n",
       "        vertical-align: top;\n",
       "    }\n",
       "\n",
       "    .dataframe thead th {\n",
       "        text-align: right;\n",
       "    }\n",
       "</style>\n",
       "<table border=\"1\" class=\"dataframe\">\n",
       "  <thead>\n",
       "    <tr style=\"text-align: right;\">\n",
       "      <th></th>\n",
       "      <th>estabelecimento_valor</th>\n",
       "      <th>estabelecimento_razaoSocial</th>\n",
       "      <th>estalecimento_noFantasia</th>\n",
       "      <th>estabelecimento_municipio_codigo</th>\n",
       "      <th>estabelecimento_municipio_nome</th>\n",
       "      <th>estabelecimento_uf</th>\n",
       "    </tr>\n",
       "  </thead>\n",
       "  <tbody>\n",
       "    <tr>\n",
       "      <th>2</th>\n",
       "      <td>6917291</td>\n",
       "      <td>PREFEITURA MUNICIPAL DE RIO BRANCO</td>\n",
       "      <td>DEPARTAMENTO DE VIGILANCIA EPIDEMIOLOGICA E AM...</td>\n",
       "      <td>120040</td>\n",
       "      <td>RIO BRANCO</td>\n",
       "      <td>AC</td>\n",
       "    </tr>\n",
       "    <tr>\n",
       "      <th>4</th>\n",
       "      <td>6428940</td>\n",
       "      <td>PREFEITURA MUNICIPAL DE ASSIS BRASIL</td>\n",
       "      <td>POLO BASE DE ASSIS BRASIL</td>\n",
       "      <td>120005</td>\n",
       "      <td>ASSIS BRASIL</td>\n",
       "      <td>AC</td>\n",
       "    </tr>\n",
       "    <tr>\n",
       "      <th>7</th>\n",
       "      <td>2002272</td>\n",
       "      <td>PREFEITURA MUNICIPAL DE MANCIO LIMA</td>\n",
       "      <td>UNIDADE S FAMILIA DR CERQUEIRA</td>\n",
       "      <td>120033</td>\n",
       "      <td>MANCIO LIMA</td>\n",
       "      <td>AC</td>\n",
       "    </tr>\n",
       "    <tr>\n",
       "      <th>16</th>\n",
       "      <td>6917291</td>\n",
       "      <td>PREFEITURA MUNICIPAL DE RIO BRANCO</td>\n",
       "      <td>DEPARTAMENTO DE VIGILANCIA EPIDEMIOLOGICA E AM...</td>\n",
       "      <td>120040</td>\n",
       "      <td>RIO BRANCO</td>\n",
       "      <td>AC</td>\n",
       "    </tr>\n",
       "    <tr>\n",
       "      <th>21</th>\n",
       "      <td>6430201</td>\n",
       "      <td>DISTRITO SANITARIO ESPECIAL INDIGENA ALTO JURUA</td>\n",
       "      <td>POLO BASE INDIGENA</td>\n",
       "      <td>120032</td>\n",
       "      <td>JORDAO</td>\n",
       "      <td>AC</td>\n",
       "    </tr>\n",
       "    <tr>\n",
       "      <th>...</th>\n",
       "      <td>...</td>\n",
       "      <td>...</td>\n",
       "      <td>...</td>\n",
       "      <td>...</td>\n",
       "      <td>...</td>\n",
       "      <td>...</td>\n",
       "    </tr>\n",
       "    <tr>\n",
       "      <th>382902</th>\n",
       "      <td>3797554</td>\n",
       "      <td>PREFEITURA MUNICIPAL DE ASSIS BRASIL</td>\n",
       "      <td>UNIDADE BASICA DE SAUDE ANTONIO ALVES CAVALCANTE</td>\n",
       "      <td>120005</td>\n",
       "      <td>ASSIS BRASIL</td>\n",
       "      <td>AC</td>\n",
       "    </tr>\n",
       "    <tr>\n",
       "      <th>382927</th>\n",
       "      <td>6917291</td>\n",
       "      <td>PREFEITURA MUNICIPAL DE RIO BRANCO</td>\n",
       "      <td>DEPARTAMENTO DE VIGILANCIA EPIDEMIOLOGICA E AM...</td>\n",
       "      <td>120040</td>\n",
       "      <td>RIO BRANCO</td>\n",
       "      <td>AC</td>\n",
       "    </tr>\n",
       "    <tr>\n",
       "      <th>382933</th>\n",
       "      <td>2000660</td>\n",
       "      <td>PREFEITURA MUNICIPAL DE SENADOR GUIOMARD</td>\n",
       "      <td>CENTRO DE SAUDE MARIA DO SOCORRO CAVALCANTE</td>\n",
       "      <td>120045</td>\n",
       "      <td>SENADOR GUIOMARD</td>\n",
       "      <td>AC</td>\n",
       "    </tr>\n",
       "    <tr>\n",
       "      <th>382941</th>\n",
       "      <td>6917291</td>\n",
       "      <td>PREFEITURA MUNICIPAL DE RIO BRANCO</td>\n",
       "      <td>DEPARTAMENTO DE VIGILANCIA EPIDEMIOLOGICA E AM...</td>\n",
       "      <td>120040</td>\n",
       "      <td>RIO BRANCO</td>\n",
       "      <td>AC</td>\n",
       "    </tr>\n",
       "    <tr>\n",
       "      <th>382942</th>\n",
       "      <td>3449432</td>\n",
       "      <td>PREFEITURA MUNICIPAL DE SENA MADUREIRA</td>\n",
       "      <td>UNIDADE BASICA DE SAUDE FLORIANO FLORENTINO M ...</td>\n",
       "      <td>120050</td>\n",
       "      <td>SENA MADUREIRA</td>\n",
       "      <td>AC</td>\n",
       "    </tr>\n",
       "  </tbody>\n",
       "</table>\n",
       "<p>75082 rows × 6 columns</p>\n",
       "</div>"
      ],
      "text/plain": [
       "        estabelecimento_valor  \\\n",
       "2                     6917291   \n",
       "4                     6428940   \n",
       "7                     2002272   \n",
       "16                    6917291   \n",
       "21                    6430201   \n",
       "...                       ...   \n",
       "382902                3797554   \n",
       "382927                6917291   \n",
       "382933                2000660   \n",
       "382941                6917291   \n",
       "382942                3449432   \n",
       "\n",
       "                            estabelecimento_razaoSocial  \\\n",
       "2                    PREFEITURA MUNICIPAL DE RIO BRANCO   \n",
       "4                  PREFEITURA MUNICIPAL DE ASSIS BRASIL   \n",
       "7                   PREFEITURA MUNICIPAL DE MANCIO LIMA   \n",
       "16                   PREFEITURA MUNICIPAL DE RIO BRANCO   \n",
       "21      DISTRITO SANITARIO ESPECIAL INDIGENA ALTO JURUA   \n",
       "...                                                 ...   \n",
       "382902             PREFEITURA MUNICIPAL DE ASSIS BRASIL   \n",
       "382927               PREFEITURA MUNICIPAL DE RIO BRANCO   \n",
       "382933         PREFEITURA MUNICIPAL DE SENADOR GUIOMARD   \n",
       "382941               PREFEITURA MUNICIPAL DE RIO BRANCO   \n",
       "382942           PREFEITURA MUNICIPAL DE SENA MADUREIRA   \n",
       "\n",
       "                                 estalecimento_noFantasia  \\\n",
       "2       DEPARTAMENTO DE VIGILANCIA EPIDEMIOLOGICA E AM...   \n",
       "4                               POLO BASE DE ASSIS BRASIL   \n",
       "7                          UNIDADE S FAMILIA DR CERQUEIRA   \n",
       "16      DEPARTAMENTO DE VIGILANCIA EPIDEMIOLOGICA E AM...   \n",
       "21                                     POLO BASE INDIGENA   \n",
       "...                                                   ...   \n",
       "382902   UNIDADE BASICA DE SAUDE ANTONIO ALVES CAVALCANTE   \n",
       "382927  DEPARTAMENTO DE VIGILANCIA EPIDEMIOLOGICA E AM...   \n",
       "382933        CENTRO DE SAUDE MARIA DO SOCORRO CAVALCANTE   \n",
       "382941  DEPARTAMENTO DE VIGILANCIA EPIDEMIOLOGICA E AM...   \n",
       "382942  UNIDADE BASICA DE SAUDE FLORIANO FLORENTINO M ...   \n",
       "\n",
       "        estabelecimento_municipio_codigo estabelecimento_municipio_nome  \\\n",
       "2                                 120040                     RIO BRANCO   \n",
       "4                                 120005                   ASSIS BRASIL   \n",
       "7                                 120033                    MANCIO LIMA   \n",
       "16                                120040                     RIO BRANCO   \n",
       "21                                120032                         JORDAO   \n",
       "...                                  ...                            ...   \n",
       "382902                            120005                   ASSIS BRASIL   \n",
       "382927                            120040                     RIO BRANCO   \n",
       "382933                            120045               SENADOR GUIOMARD   \n",
       "382941                            120040                     RIO BRANCO   \n",
       "382942                            120050                 SENA MADUREIRA   \n",
       "\n",
       "       estabelecimento_uf  \n",
       "2                      AC  \n",
       "4                      AC  \n",
       "7                      AC  \n",
       "16                     AC  \n",
       "21                     AC  \n",
       "...                   ...  \n",
       "382902                 AC  \n",
       "382927                 AC  \n",
       "382933                 AC  \n",
       "382941                 AC  \n",
       "382942                 AC  \n",
       "\n",
       "[75082 rows x 6 columns]"
      ]
     },
     "execution_count": 164,
     "metadata": {},
     "output_type": "execute_result"
    }
   ],
   "source": [
    "# 5)\n",
    "df_menor_lista = df_menor.loc[:,lista_variaveis]\n",
    "df_menor_lista"
   ]
  },
  {
   "cell_type": "code",
   "execution_count": 165,
   "metadata": {},
   "outputs": [
    {
     "data": {
      "text/html": [
       "<div>\n",
       "<style scoped>\n",
       "    .dataframe tbody tr th:only-of-type {\n",
       "        vertical-align: middle;\n",
       "    }\n",
       "\n",
       "    .dataframe tbody tr th {\n",
       "        vertical-align: top;\n",
       "    }\n",
       "\n",
       "    .dataframe thead th {\n",
       "        text-align: right;\n",
       "    }\n",
       "</style>\n",
       "<table border=\"1\" class=\"dataframe\">\n",
       "  <thead>\n",
       "    <tr style=\"text-align: right;\">\n",
       "      <th></th>\n",
       "      <th>estabelecimento_valor</th>\n",
       "      <th>estabelecimento_razaoSocial</th>\n",
       "      <th>estalecimento_noFantasia</th>\n",
       "      <th>estabelecimento_municipio_codigo</th>\n",
       "      <th>estabelecimento_municipio_nome</th>\n",
       "      <th>estabelecimento_uf</th>\n",
       "    </tr>\n",
       "  </thead>\n",
       "  <tbody>\n",
       "    <tr>\n",
       "      <th>2</th>\n",
       "      <td>6917291</td>\n",
       "      <td>PREFEITURA MUNICIPAL DE RIO BRANCO</td>\n",
       "      <td>DEPARTAMENTO DE VIGILANCIA EPIDEMIOLOGICA E AM...</td>\n",
       "      <td>120040</td>\n",
       "      <td>RIO BRANCO</td>\n",
       "      <td>AC</td>\n",
       "    </tr>\n",
       "    <tr>\n",
       "      <th>4</th>\n",
       "      <td>6428940</td>\n",
       "      <td>PREFEITURA MUNICIPAL DE ASSIS BRASIL</td>\n",
       "      <td>POLO BASE DE ASSIS BRASIL</td>\n",
       "      <td>120005</td>\n",
       "      <td>ASSIS BRASIL</td>\n",
       "      <td>AC</td>\n",
       "    </tr>\n",
       "    <tr>\n",
       "      <th>7</th>\n",
       "      <td>2002272</td>\n",
       "      <td>PREFEITURA MUNICIPAL DE MANCIO LIMA</td>\n",
       "      <td>UNIDADE S FAMILIA DR CERQUEIRA</td>\n",
       "      <td>120033</td>\n",
       "      <td>MANCIO LIMA</td>\n",
       "      <td>AC</td>\n",
       "    </tr>\n",
       "    <tr>\n",
       "      <th>21</th>\n",
       "      <td>6430201</td>\n",
       "      <td>DISTRITO SANITARIO ESPECIAL INDIGENA ALTO JURUA</td>\n",
       "      <td>POLO BASE INDIGENA</td>\n",
       "      <td>120032</td>\n",
       "      <td>JORDAO</td>\n",
       "      <td>AC</td>\n",
       "    </tr>\n",
       "    <tr>\n",
       "      <th>24</th>\n",
       "      <td>7014147</td>\n",
       "      <td>PREFEITURA MUNICIPAL DE FEIJO</td>\n",
       "      <td>U S F ANTONIO DOMINGOS RODRIGUES</td>\n",
       "      <td>120030</td>\n",
       "      <td>FEIJO</td>\n",
       "      <td>AC</td>\n",
       "    </tr>\n",
       "    <tr>\n",
       "      <th>...</th>\n",
       "      <td>...</td>\n",
       "      <td>...</td>\n",
       "      <td>...</td>\n",
       "      <td>...</td>\n",
       "      <td>...</td>\n",
       "      <td>...</td>\n",
       "    </tr>\n",
       "    <tr>\n",
       "      <th>253575</th>\n",
       "      <td>2001462</td>\n",
       "      <td>PREFEITURA MUNICIPAL DE BRASILEIA</td>\n",
       "      <td>ESF DR RICARDO BARBOSA DA SILVA</td>\n",
       "      <td>120010</td>\n",
       "      <td>BRASILEIA</td>\n",
       "      <td>AC</td>\n",
       "    </tr>\n",
       "    <tr>\n",
       "      <th>264026</th>\n",
       "      <td>197599</td>\n",
       "      <td>CENTRAL MUNICIPAL DE REDE DE FRIOS</td>\n",
       "      <td>CENTRAL MUNICIPAL DE REDE DE FRIOS</td>\n",
       "      <td>120020</td>\n",
       "      <td>CRUZEIRO DO SUL</td>\n",
       "      <td>AC</td>\n",
       "    </tr>\n",
       "    <tr>\n",
       "      <th>302984</th>\n",
       "      <td>6596657</td>\n",
       "      <td>PREFEITURA MUNICIPAL DE SANTA ROSA DO PURUS</td>\n",
       "      <td>PSF MOVEL DE SANTA ROSA DO PURUS</td>\n",
       "      <td>120043</td>\n",
       "      <td>SANTA ROSA DO PURUS</td>\n",
       "      <td>AC</td>\n",
       "    </tr>\n",
       "    <tr>\n",
       "      <th>327886</th>\n",
       "      <td>2000679</td>\n",
       "      <td>PREFEITURA MUNICIPAL DE SENADOR GUIOMARD</td>\n",
       "      <td>UNIDADE S DA F FRANCISCO TAVEIRA</td>\n",
       "      <td>120045</td>\n",
       "      <td>SENADOR GUIOMARD</td>\n",
       "      <td>AC</td>\n",
       "    </tr>\n",
       "    <tr>\n",
       "      <th>339501</th>\n",
       "      <td>9296042</td>\n",
       "      <td>PREFEITURA MUNICIPAL DE SENADOR GUIOMARD</td>\n",
       "      <td>UNIDADE BASICA DE SAUDE FRANCISCO LUIS DE FRANCA</td>\n",
       "      <td>120045</td>\n",
       "      <td>SENADOR GUIOMARD</td>\n",
       "      <td>AC</td>\n",
       "    </tr>\n",
       "  </tbody>\n",
       "</table>\n",
       "<p>193 rows × 6 columns</p>\n",
       "</div>"
      ],
      "text/plain": [
       "        estabelecimento_valor  \\\n",
       "2                     6917291   \n",
       "4                     6428940   \n",
       "7                     2002272   \n",
       "21                    6430201   \n",
       "24                    7014147   \n",
       "...                       ...   \n",
       "253575                2001462   \n",
       "264026                 197599   \n",
       "302984                6596657   \n",
       "327886                2000679   \n",
       "339501                9296042   \n",
       "\n",
       "                            estabelecimento_razaoSocial  \\\n",
       "2                    PREFEITURA MUNICIPAL DE RIO BRANCO   \n",
       "4                  PREFEITURA MUNICIPAL DE ASSIS BRASIL   \n",
       "7                   PREFEITURA MUNICIPAL DE MANCIO LIMA   \n",
       "21      DISTRITO SANITARIO ESPECIAL INDIGENA ALTO JURUA   \n",
       "24                        PREFEITURA MUNICIPAL DE FEIJO   \n",
       "...                                                 ...   \n",
       "253575                PREFEITURA MUNICIPAL DE BRASILEIA   \n",
       "264026               CENTRAL MUNICIPAL DE REDE DE FRIOS   \n",
       "302984      PREFEITURA MUNICIPAL DE SANTA ROSA DO PURUS   \n",
       "327886         PREFEITURA MUNICIPAL DE SENADOR GUIOMARD   \n",
       "339501         PREFEITURA MUNICIPAL DE SENADOR GUIOMARD   \n",
       "\n",
       "                                 estalecimento_noFantasia  \\\n",
       "2       DEPARTAMENTO DE VIGILANCIA EPIDEMIOLOGICA E AM...   \n",
       "4                               POLO BASE DE ASSIS BRASIL   \n",
       "7                          UNIDADE S FAMILIA DR CERQUEIRA   \n",
       "21                                     POLO BASE INDIGENA   \n",
       "24                       U S F ANTONIO DOMINGOS RODRIGUES   \n",
       "...                                                   ...   \n",
       "253575                    ESF DR RICARDO BARBOSA DA SILVA   \n",
       "264026                 CENTRAL MUNICIPAL DE REDE DE FRIOS   \n",
       "302984                   PSF MOVEL DE SANTA ROSA DO PURUS   \n",
       "327886                   UNIDADE S DA F FRANCISCO TAVEIRA   \n",
       "339501   UNIDADE BASICA DE SAUDE FRANCISCO LUIS DE FRANCA   \n",
       "\n",
       "        estabelecimento_municipio_codigo estabelecimento_municipio_nome  \\\n",
       "2                                 120040                     RIO BRANCO   \n",
       "4                                 120005                   ASSIS BRASIL   \n",
       "7                                 120033                    MANCIO LIMA   \n",
       "21                                120032                         JORDAO   \n",
       "24                                120030                          FEIJO   \n",
       "...                                  ...                            ...   \n",
       "253575                            120010                      BRASILEIA   \n",
       "264026                            120020                CRUZEIRO DO SUL   \n",
       "302984                            120043            SANTA ROSA DO PURUS   \n",
       "327886                            120045               SENADOR GUIOMARD   \n",
       "339501                            120045               SENADOR GUIOMARD   \n",
       "\n",
       "       estabelecimento_uf  \n",
       "2                      AC  \n",
       "4                      AC  \n",
       "7                      AC  \n",
       "21                     AC  \n",
       "24                     AC  \n",
       "...                   ...  \n",
       "253575                 AC  \n",
       "264026                 AC  \n",
       "302984                 AC  \n",
       "327886                 AC  \n",
       "339501                 AC  \n",
       "\n",
       "[193 rows x 6 columns]"
      ]
     },
     "execution_count": 165,
     "metadata": {},
     "output_type": "execute_result"
    }
   ],
   "source": [
    "df_menor_lista = df_menor_lista.drop_duplicates()\n",
    "df_menor_lista"
   ]
  },
  {
   "cell_type": "code",
   "execution_count": 166,
   "metadata": {},
   "outputs": [
    {
     "data": {
      "text/plain": [
       "(193, 6)"
      ]
     },
     "execution_count": 166,
     "metadata": {},
     "output_type": "execute_result"
    }
   ],
   "source": [
    "df_menor_lista.shape"
   ]
  },
  {
   "cell_type": "code",
   "execution_count": null,
   "metadata": {},
   "outputs": [],
   "source": []
  }
 ],
 "metadata": {
  "colab": {
   "provenance": []
  },
  "kernelspec": {
   "display_name": "Python 3 (ipykernel)",
   "language": "python",
   "name": "python3"
  },
  "language_info": {
   "codemirror_mode": {
    "name": "ipython",
    "version": 3
   },
   "file_extension": ".py",
   "mimetype": "text/x-python",
   "name": "python",
   "nbconvert_exporter": "python",
   "pygments_lexer": "ipython3",
   "version": "3.11.7"
  },
  "toc": {
   "base_numbering": 1,
   "nav_menu": {},
   "number_sections": false,
   "sideBar": true,
   "skip_h1_title": true,
   "title_cell": "Índice",
   "title_sidebar": "Conteúdo",
   "toc_cell": false,
   "toc_position": {},
   "toc_section_display": true,
   "toc_window_display": false
  },
  "varInspector": {
   "cols": {
    "lenName": 16,
    "lenType": 16,
    "lenVar": 40
   },
   "kernels_config": {
    "python": {
     "delete_cmd_postfix": "",
     "delete_cmd_prefix": "del ",
     "library": "var_list.py",
     "varRefreshCmd": "print(var_dic_list())"
    },
    "r": {
     "delete_cmd_postfix": ") ",
     "delete_cmd_prefix": "rm(",
     "library": "var_list.r",
     "varRefreshCmd": "cat(var_dic_list()) "
    }
   },
   "types_to_exclude": [
    "module",
    "function",
    "builtin_function_or_method",
    "instance",
    "_Feature"
   ],
   "window_display": false
  }
 },
 "nbformat": 4,
 "nbformat_minor": 4
}
