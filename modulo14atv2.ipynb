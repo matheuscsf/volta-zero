{
 "cells": [
  {
   "cell_type": "raw",
   "id": "4b7021a7-507b-45ce-b835-831548b93454",
   "metadata": {},
   "source": [
    "Crie um script que receba uma lista de abreviaturas de meses (MAR, ABR, MAI,\n",
    "JUN, etc) como argumento e gera as pastas e gráficos necessários para os meses\n",
    "de referência.\n",
    "Exemplo:\n",
    "python “gerar analise.py” MAR ABR MAI JUN JUL\n",
    "Deve gerar o seguinte resultado de diretórios e gráficos:\n",
    "2019-03\n",
    "2019-04\n",
    "2019-05\n",
    "2019-06\n",
    "2019-07"
   ]
  },
  {
   "cell_type": "code",
   "execution_count": 1,
   "id": "96a8f622-2b0b-4c4c-b377-ff89a692a276",
   "metadata": {},
   "outputs": [],
   "source": [
    "import os\n",
    "import pandas as pd\n",
    "import matplotlib.pyplot as plt"
   ]
  },
  {
   "cell_type": "code",
   "execution_count": 5,
   "id": "63cf2b05-dcb6-460f-82a8-2ead1461d15d",
   "metadata": {},
   "outputs": [],
   "source": [
    "# Função para criar diretórios e gerar gráficos\n",
    "def gerar_pastas_e_graficos(meses, arquivos):\n",
    "    # Dicionário para mapear os meses\n",
    "    meses_map = {\n",
    "        \"JAN\": \"01\",\n",
    "        \"FEV\": \"02\",\n",
    "        \"MAR\": \"03\",\n",
    "        \"ABR\": \"04\",\n",
    "        \"MAI\": \"05\",\n",
    "        \"JUN\": \"06\",\n",
    "        \"JUL\": \"07\",\n",
    "        \"AGO\": \"08\",\n",
    "        \"SET\": \"09\",\n",
    "        \"OUT\": \"10\",\n",
    "        \"NOV\": \"11\",\n",
    "        \"DEZ\": \"12\"\n",
    "    }\n",
    "    \n",
    "    # Processa os meses recebidos\n",
    "    for mes_abrev in meses:\n",
    "        ano_mes = f\"2019-{meses_map[mes_abrev]}\"\n",
    "        \n",
    "        # Cria o diretório\n",
    "        if not os.path.exists(ano_mes):\n",
    "            os.makedirs(ano_mes)\n",
    "        \n",
    "        # Lê o arquivo correspondente\n",
    "        arquivo_mes = arquivos.get(mes_abrev)\n",
    "        if arquivo_mes:\n",
    "            df = pd.read_csv(arquivo_mes)\n",
    "            \n",
    "            # Exemplo: Gerar um gráfico da quantidade de nascimentos por dia\n",
    "            if 'DTNASC' in df.columns:\n",
    "                df['DTNASC'] = pd.to_datetime(df['DTNASC'], errors='coerce')\n",
    "                df['Dia'] = df['DTNASC'].dt.day\n",
    "                nascimentos_por_dia = df['Dia'].value_counts().sort_index()\n",
    "                \n",
    "                # Gerar gráfico\n",
    "                plt.figure(figsize=(10, 6))\n",
    "                nascimentos_por_dia.plot(kind='bar')\n",
    "                plt.title(f\"Nascimentos por dia - {ano_mes}\")\n",
    "                plt.xlabel(\"Dia do Mês\")\n",
    "                plt.ylabel(\"Quantidade de Nascimentos\")\n",
    "                plt.savefig(f\"{ano_mes}/nascimentos_por_dia_{ano_mes}.png\")\n",
    "                plt.close()"
   ]
  },
  {
   "cell_type": "code",
   "execution_count": 4,
   "id": "85dfdd2e-38a7-46e0-b1b9-6d19f5b7ed8e",
   "metadata": {},
   "outputs": [],
   "source": [
    "\n",
    "# Lista de meses e mapeamento para arquivos\n",
    "meses_usuario = [\"MAR\", \"ABR\", \"MAI\", \"JUN\", \"JUL\"]\n",
    "arquivos = {\n",
    "    \"JAN\": 'SINASC_RO_2019_JAN.csv',\n",
    "    \"FEV\": 'SINASC_RO_2019_FEV.csv',\n",
    "    \"MAR\": 'SINASC_RO_2019_MAR.csv',\n",
    "    \"ABR\": 'SINASC_RO_2019_ABR.csv',\n",
    "    \"MAI\": 'SINASC_RO_2019_MAI.csv',\n",
    "    \"JUN\": 'SINASC_RO_2019_JUN.csv',\n",
    "    \"JUL\": 'SINASC_RO_2019_JUL.csv',\n",
    "    \"AGO\": 'SINASC_RO_2019_AGO.csv',\n",
    "    \"SET\": 'SINASC_RO_2019_SET.csv',\n",
    "    \"OUT\": 'SINASC_RO_2019_OUT.csv',\n",
    "    \"NOV\": 'SINASC_RO_2019_NOV.csv',\n",
    "    \"DEZ\": 'SINASC_RO_2019_DEZ.csv'\n",
    "}\n",
    "# Executa a função\n",
    "gerar_pastas_e_graficos(meses_usuario, arquivos)"
   ]
  }
 ],
 "metadata": {
  "kernelspec": {
   "display_name": "Python 3 (ipykernel)",
   "language": "python",
   "name": "python3"
  },
  "language_info": {
   "codemirror_mode": {
    "name": "ipython",
    "version": 3
   },
   "file_extension": ".py",
   "mimetype": "text/x-python",
   "name": "python",
   "nbconvert_exporter": "python",
   "pygments_lexer": "ipython3",
   "version": "3.12.4"
  }
 },
 "nbformat": 4,
 "nbformat_minor": 5
}
