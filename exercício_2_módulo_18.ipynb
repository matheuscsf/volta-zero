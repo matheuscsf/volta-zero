{
 "cells": [
  {
   "cell_type": "markdown",
   "metadata": {},
   "source": [
    "# Regressão Logística I\n",
    "## Tarefa II\n",
    "\n",
    "Vamos trabalhar com a mesma base do exercício anterior, mas vamos aprofundar um pouco mais a nossa regressão."
   ]
  },
  {
   "cell_type": "code",
   "execution_count": 51,
   "metadata": {},
   "outputs": [],
   "source": [
    "import pandas as pd\n",
    "import seaborn as sns\n",
    "import matplotlib.pyplot as plt\n",
    "import numpy as np\n",
    "\n",
    "import statsmodels.formula.api as smf\n",
    "import statsmodels.api as sm\n",
    "from sklearn.metrics import accuracy_score\n",
    "from sklearn.metrics import roc_auc_score\n",
    "from scipy.stats import ks_2samp"
   ]
  },
  {
   "cell_type": "code",
   "execution_count": 2,
   "metadata": {
    "tags": []
   },
   "outputs": [
    {
     "data": {
      "text/html": [
       "<div>\n",
       "<style scoped>\n",
       "    .dataframe tbody tr th:only-of-type {\n",
       "        vertical-align: middle;\n",
       "    }\n",
       "\n",
       "    .dataframe tbody tr th {\n",
       "        vertical-align: top;\n",
       "    }\n",
       "\n",
       "    .dataframe thead th {\n",
       "        text-align: right;\n",
       "    }\n",
       "</style>\n",
       "<table border=\"1\" class=\"dataframe\">\n",
       "  <thead>\n",
       "    <tr style=\"text-align: right;\">\n",
       "      <th></th>\n",
       "      <th>age</th>\n",
       "      <th>sex</th>\n",
       "      <th>cp</th>\n",
       "      <th>trestbps</th>\n",
       "      <th>chol</th>\n",
       "      <th>fbs</th>\n",
       "      <th>restecg</th>\n",
       "      <th>thalach</th>\n",
       "      <th>exang</th>\n",
       "      <th>oldpeak</th>\n",
       "      <th>slope</th>\n",
       "      <th>ca</th>\n",
       "      <th>thal</th>\n",
       "      <th>num</th>\n",
       "      <th>flag_doente</th>\n",
       "    </tr>\n",
       "  </thead>\n",
       "  <tbody>\n",
       "    <tr>\n",
       "      <th>0</th>\n",
       "      <td>63.0</td>\n",
       "      <td>1.0</td>\n",
       "      <td>1.0</td>\n",
       "      <td>145.0</td>\n",
       "      <td>233.0</td>\n",
       "      <td>1.0</td>\n",
       "      <td>2.0</td>\n",
       "      <td>150.0</td>\n",
       "      <td>0.0</td>\n",
       "      <td>2.3</td>\n",
       "      <td>3.0</td>\n",
       "      <td>0.0</td>\n",
       "      <td>6.0</td>\n",
       "      <td>0</td>\n",
       "      <td>0</td>\n",
       "    </tr>\n",
       "    <tr>\n",
       "      <th>1</th>\n",
       "      <td>67.0</td>\n",
       "      <td>1.0</td>\n",
       "      <td>4.0</td>\n",
       "      <td>160.0</td>\n",
       "      <td>286.0</td>\n",
       "      <td>0.0</td>\n",
       "      <td>2.0</td>\n",
       "      <td>108.0</td>\n",
       "      <td>1.0</td>\n",
       "      <td>1.5</td>\n",
       "      <td>2.0</td>\n",
       "      <td>3.0</td>\n",
       "      <td>3.0</td>\n",
       "      <td>2</td>\n",
       "      <td>1</td>\n",
       "    </tr>\n",
       "    <tr>\n",
       "      <th>2</th>\n",
       "      <td>67.0</td>\n",
       "      <td>1.0</td>\n",
       "      <td>4.0</td>\n",
       "      <td>120.0</td>\n",
       "      <td>229.0</td>\n",
       "      <td>0.0</td>\n",
       "      <td>2.0</td>\n",
       "      <td>129.0</td>\n",
       "      <td>1.0</td>\n",
       "      <td>2.6</td>\n",
       "      <td>2.0</td>\n",
       "      <td>2.0</td>\n",
       "      <td>7.0</td>\n",
       "      <td>1</td>\n",
       "      <td>1</td>\n",
       "    </tr>\n",
       "    <tr>\n",
       "      <th>3</th>\n",
       "      <td>37.0</td>\n",
       "      <td>1.0</td>\n",
       "      <td>3.0</td>\n",
       "      <td>130.0</td>\n",
       "      <td>250.0</td>\n",
       "      <td>0.0</td>\n",
       "      <td>0.0</td>\n",
       "      <td>187.0</td>\n",
       "      <td>0.0</td>\n",
       "      <td>3.5</td>\n",
       "      <td>3.0</td>\n",
       "      <td>0.0</td>\n",
       "      <td>3.0</td>\n",
       "      <td>0</td>\n",
       "      <td>0</td>\n",
       "    </tr>\n",
       "    <tr>\n",
       "      <th>4</th>\n",
       "      <td>41.0</td>\n",
       "      <td>0.0</td>\n",
       "      <td>2.0</td>\n",
       "      <td>130.0</td>\n",
       "      <td>204.0</td>\n",
       "      <td>0.0</td>\n",
       "      <td>2.0</td>\n",
       "      <td>172.0</td>\n",
       "      <td>0.0</td>\n",
       "      <td>1.4</td>\n",
       "      <td>1.0</td>\n",
       "      <td>0.0</td>\n",
       "      <td>3.0</td>\n",
       "      <td>0</td>\n",
       "      <td>0</td>\n",
       "    </tr>\n",
       "  </tbody>\n",
       "</table>\n",
       "</div>"
      ],
      "text/plain": [
       "    age  sex   cp  trestbps   chol  fbs  restecg  thalach  exang  oldpeak  \\\n",
       "0  63.0  1.0  1.0     145.0  233.0  1.0      2.0    150.0    0.0      2.3   \n",
       "1  67.0  1.0  4.0     160.0  286.0  0.0      2.0    108.0    1.0      1.5   \n",
       "2  67.0  1.0  4.0     120.0  229.0  0.0      2.0    129.0    1.0      2.6   \n",
       "3  37.0  1.0  3.0     130.0  250.0  0.0      0.0    187.0    0.0      3.5   \n",
       "4  41.0  0.0  2.0     130.0  204.0  0.0      2.0    172.0    0.0      1.4   \n",
       "\n",
       "   slope   ca thal  num  flag_doente  \n",
       "0    3.0  0.0  6.0    0            0  \n",
       "1    2.0  3.0  3.0    2            1  \n",
       "2    2.0  2.0  7.0    1            1  \n",
       "3    3.0  0.0  3.0    0            0  \n",
       "4    1.0  0.0  3.0    0            0  "
      ]
     },
     "execution_count": 2,
     "metadata": {},
     "output_type": "execute_result"
    }
   ],
   "source": [
    "url = 'https://archive.ics.uci.edu/ml/machine-learning-databases/heart-disease/processed.cleveland.data'\n",
    "\n",
    "df = pd.read_csv(url, \n",
    "                 names=['age', 'sex', 'cp', 'trestbps', 'chol', 'fbs', 'restecg',\n",
    "                        'thalach', 'exang', 'oldpeak', 'slope', 'ca', 'thal', 'num'])\n",
    "df['flag_doente'] = (df['num']!=0).astype('int64')\n",
    "df.head()"
   ]
  },
  {
   "cell_type": "markdown",
   "metadata": {},
   "source": [
    "A descrição das variáveis está recortada abaixo:\n",
    "- age: idade do paciente em anos\n",
    "- sex: sexo (1 = male; 0 = female)  \n",
    "- cp: tipo de dor no peito\n",
    "  - 1: angina típica\n",
    "  - 2: angina atípica\n",
    "  - 3: dor não-angina\n",
    "  - 4: assintomático\n",
    "- trestbps: pressão sanguínea em repouso (em mm Hg na admissão ao hospital\n",
    "- chol: colesterol sérico em mg/dl\n",
    "- fbs: (açúcar no sangue em jejum > 120 mg/dl) (1 = True; 0 = False)\n",
    "- restecg: resultados eletrocardiográficos em repouso\n",
    "  - 0: normal\n",
    "  - 1: tendo anormalidade da onda ST-T (Inversões de onda T e / ou ST com elevação ou depressão de > 0.05 mV)\n",
    "  - 2: mostrando hipertrofia ventricular esquerda provável ou definitiva pelos critérios de Estes\n",
    "- thalach: frequência cardíaca máxima alcançada\n",
    "- exang: angina induzida por exercício(1 = sim; 0 = não)\n",
    "- oldpeak = Depressão de ST induzida por exercício em relação ao repouso\n",
    "- slope: Depressão de ST induzida por exercício em relação ao repouso\n",
    "  - 1: inclinação ascendente\n",
    "  - 2: estável\n",
    "  - 3: inclinação descendente\n",
    "- ca: número de vasos principais (0-3) coloridos por fluorosopia\n",
    "- thal: 3 = normal; 6 = defeito corrigido; 7 = defeito reversível\n",
    "- num: diagnóstico de doença cardíaga (status de doença angiográfica)"
   ]
  },
  {
   "cell_type": "code",
   "execution_count": 3,
   "metadata": {},
   "outputs": [
    {
     "name": "stdout",
     "output_type": "stream",
     "text": [
      "<class 'pandas.core.frame.DataFrame'>\n",
      "RangeIndex: 303 entries, 0 to 302\n",
      "Data columns (total 15 columns):\n",
      " #   Column       Non-Null Count  Dtype  \n",
      "---  ------       --------------  -----  \n",
      " 0   age          303 non-null    float64\n",
      " 1   sex          303 non-null    float64\n",
      " 2   cp           303 non-null    float64\n",
      " 3   trestbps     303 non-null    float64\n",
      " 4   chol         303 non-null    float64\n",
      " 5   fbs          303 non-null    float64\n",
      " 6   restecg      303 non-null    float64\n",
      " 7   thalach      303 non-null    float64\n",
      " 8   exang        303 non-null    float64\n",
      " 9   oldpeak      303 non-null    float64\n",
      " 10  slope        303 non-null    float64\n",
      " 11  ca           303 non-null    object \n",
      " 12  thal         303 non-null    object \n",
      " 13  num          303 non-null    int64  \n",
      " 14  flag_doente  303 non-null    int64  \n",
      "dtypes: float64(11), int64(2), object(2)\n",
      "memory usage: 35.6+ KB\n"
     ]
    }
   ],
   "source": [
    "df.info()"
   ]
  },
  {
   "cell_type": "code",
   "execution_count": 5,
   "metadata": {},
   "outputs": [
    {
     "data": {
      "text/plain": [
       "(array(['0.0', '3.0', '2.0', '1.0', '?'], dtype=object),\n",
       " array(['6.0', '3.0', '7.0', '?'], dtype=object))"
      ]
     },
     "execution_count": 5,
     "metadata": {},
     "output_type": "execute_result"
    }
   ],
   "source": [
    "# Verificando valores únicos nas colunas 'ca' e 'thal'\n",
    "valores_unicos_ca = df['ca'].unique()\n",
    "valores_unicos_thal = df['thal'].unique()\n",
    "\n",
    "valores_unicos_ca, valores_unicos_thal"
   ]
  },
  {
   "cell_type": "code",
   "execution_count": 7,
   "metadata": {},
   "outputs": [
    {
     "data": {
      "text/plain": [
       "(4, 2)"
      ]
     },
     "execution_count": 7,
     "metadata": {},
     "output_type": "execute_result"
    }
   ],
   "source": [
    "# Calculando a frequência dos valores '?' nas colunas 'ca' e 'thal'\n",
    "frequencia_ca = df['ca'].value_counts()['?']\n",
    "frequencia_thal = df['thal'].value_counts()['?']\n",
    "\n",
    "frequencia_ca, frequencia_thal"
   ]
  },
  {
   "cell_type": "code",
   "execution_count": 9,
   "metadata": {},
   "outputs": [
    {
     "name": "stdout",
     "output_type": "stream",
     "text": [
      "<class 'pandas.core.frame.DataFrame'>\n",
      "RangeIndex: 303 entries, 0 to 302\n",
      "Data columns (total 15 columns):\n",
      " #   Column       Non-Null Count  Dtype  \n",
      "---  ------       --------------  -----  \n",
      " 0   age          303 non-null    float64\n",
      " 1   sex          303 non-null    float64\n",
      " 2   cp           303 non-null    float64\n",
      " 3   trestbps     303 non-null    float64\n",
      " 4   chol         303 non-null    float64\n",
      " 5   fbs          303 non-null    float64\n",
      " 6   restecg      303 non-null    float64\n",
      " 7   thalach      303 non-null    float64\n",
      " 8   exang        303 non-null    float64\n",
      " 9   oldpeak      303 non-null    float64\n",
      " 10  slope        303 non-null    float64\n",
      " 11  ca           303 non-null    float64\n",
      " 12  thal         303 non-null    float64\n",
      " 13  num          303 non-null    int64  \n",
      " 14  flag_doente  303 non-null    int64  \n",
      "dtypes: float64(13), int64(2)\n",
      "memory usage: 35.6 KB\n"
     ]
    }
   ],
   "source": [
    "# Substituindo '?' pela moda nas colunas 'ca' e 'thal'\n",
    "moda_ca = df['ca'].mode()[0]\n",
    "moda_thal = df['thal'].mode()[0]\n",
    "\n",
    "df['ca'].replace('?', moda_ca, inplace=True)\n",
    "df['thal'].replace('?', moda_thal, inplace=True)\n",
    "\n",
    "# Convertendo 'ca' e 'thal' para tipos numéricos\n",
    "df['ca'] = pd.to_numeric(df['ca'])\n",
    "df['thal'] = pd.to_numeric(df['thal'])\n",
    "\n",
    "# Verificando novamente os tipos de dados para confirmar as mudanças\n",
    "df.info()\n"
   ]
  },
  {
   "cell_type": "markdown",
   "metadata": {},
   "source": [
    "1. Considere o script que monta a análise bivariada que você fez na tarefa anterior. Transforme esse script em uma função, que deve:\n",
    "- Ter como parâmetros de entrada:\n",
    "    - Um *dataframe* contendo os dados a serem avaliados\n",
    "    - Um *string* contendo o nome da variável resposta\n",
    "    - Um *string* contendo o nome da variável explicativa\n",
    "- E deve retornar um *dataframe* com os dados da bivariada. \n",
    "**Monte** a mesma bivariada pelo menos três variáveis qualitativas do *data-frame*. Qual delas parece discriminar mais o risco?"
   ]
  },
  {
   "cell_type": "code",
   "execution_count": 12,
   "metadata": {},
   "outputs": [],
   "source": [
    "def bivariada(dataframe, var_resposta, var_explicativa):\n",
    "    # Agrupando os dados com base na variável explicativa e na variável resposta\n",
    "    bivariada_df = dataframe.groupby([var_explicativa, var_resposta]).size().unstack(fill_value=0)\n",
    "    bivariada_df.columns = ['saudaveis', 'doentes']\n",
    "    \n",
    "    # Calculando o total, a média de doentes, odds e logito\n",
    "    bivariada_df['total'] = bivariada_df['saudaveis'] + bivariada_df['doentes']\n",
    "    bivariada_df['media_doentes'] = bivariada_df['doentes'] / bivariada_df['total']\n",
    "    bivariada_df['odds'] = bivariada_df['doentes'] / bivariada_df['saudaveis']\n",
    "    bivariada_df['logito'] = np.log(bivariada_df['odds'].replace(0, np.nan))\n",
    "    \n",
    "    # Selecionando a categoria com maior total como referência para Odds Ratio e WOE\n",
    "    ref_categoria = bivariada_df['total'].idxmax()\n",
    "    bivariada_df['odds_ratio'] = bivariada_df['odds'] / bivariada_df.loc[ref_categoria, 'odds']\n",
    "    bivariada_df['woe'] = np.log(bivariada_df['odds_ratio'].replace(0, np.nan))\n",
    "    \n",
    "    # Reordenando as colunas para melhor visualização\n",
    "    bivariada_df = bivariada_df[['saudaveis', 'doentes', 'total', 'media_doentes', 'odds', 'odds_ratio', 'logito', 'woe']]\n",
    "    \n",
    "    return bivariada_df"
   ]
  },
  {
   "cell_type": "code",
   "execution_count": 14,
   "metadata": {},
   "outputs": [],
   "source": [
    "# Aplicando a função bivariada para as variáveis 'cp', 'restecg', e 'slope'\n",
    "bivariada_cp = bivariada(df, 'flag_doente', 'cp')\n",
    "bivariada_restecg = bivariada(df, 'flag_doente', 'restecg')\n",
    "bivariada_slope = bivariada(df, 'flag_doente', 'slope')"
   ]
  },
  {
   "cell_type": "code",
   "execution_count": 15,
   "metadata": {},
   "outputs": [
    {
     "data": {
      "text/html": [
       "<div>\n",
       "<style scoped>\n",
       "    .dataframe tbody tr th:only-of-type {\n",
       "        vertical-align: middle;\n",
       "    }\n",
       "\n",
       "    .dataframe tbody tr th {\n",
       "        vertical-align: top;\n",
       "    }\n",
       "\n",
       "    .dataframe thead th {\n",
       "        text-align: right;\n",
       "    }\n",
       "</style>\n",
       "<table border=\"1\" class=\"dataframe\">\n",
       "  <thead>\n",
       "    <tr style=\"text-align: right;\">\n",
       "      <th></th>\n",
       "      <th>saudaveis</th>\n",
       "      <th>doentes</th>\n",
       "      <th>total</th>\n",
       "      <th>media_doentes</th>\n",
       "      <th>odds</th>\n",
       "      <th>odds_ratio</th>\n",
       "      <th>logito</th>\n",
       "      <th>woe</th>\n",
       "    </tr>\n",
       "    <tr>\n",
       "      <th>cp</th>\n",
       "      <th></th>\n",
       "      <th></th>\n",
       "      <th></th>\n",
       "      <th></th>\n",
       "      <th></th>\n",
       "      <th></th>\n",
       "      <th></th>\n",
       "      <th></th>\n",
       "    </tr>\n",
       "  </thead>\n",
       "  <tbody>\n",
       "    <tr>\n",
       "      <th>1.0</th>\n",
       "      <td>16</td>\n",
       "      <td>7</td>\n",
       "      <td>23</td>\n",
       "      <td>0.304348</td>\n",
       "      <td>0.437500</td>\n",
       "      <td>0.162500</td>\n",
       "      <td>-0.826679</td>\n",
       "      <td>-1.817077</td>\n",
       "    </tr>\n",
       "    <tr>\n",
       "      <th>2.0</th>\n",
       "      <td>41</td>\n",
       "      <td>9</td>\n",
       "      <td>50</td>\n",
       "      <td>0.180000</td>\n",
       "      <td>0.219512</td>\n",
       "      <td>0.081533</td>\n",
       "      <td>-1.516347</td>\n",
       "      <td>-2.506746</td>\n",
       "    </tr>\n",
       "    <tr>\n",
       "      <th>3.0</th>\n",
       "      <td>68</td>\n",
       "      <td>18</td>\n",
       "      <td>86</td>\n",
       "      <td>0.209302</td>\n",
       "      <td>0.264706</td>\n",
       "      <td>0.098319</td>\n",
       "      <td>-1.329136</td>\n",
       "      <td>-2.319535</td>\n",
       "    </tr>\n",
       "    <tr>\n",
       "      <th>4.0</th>\n",
       "      <td>39</td>\n",
       "      <td>105</td>\n",
       "      <td>144</td>\n",
       "      <td>0.729167</td>\n",
       "      <td>2.692308</td>\n",
       "      <td>1.000000</td>\n",
       "      <td>0.990399</td>\n",
       "      <td>0.000000</td>\n",
       "    </tr>\n",
       "  </tbody>\n",
       "</table>\n",
       "</div>"
      ],
      "text/plain": [
       "     saudaveis  doentes  total  media_doentes      odds  odds_ratio    logito  \\\n",
       "cp                                                                              \n",
       "1.0         16        7     23       0.304348  0.437500    0.162500 -0.826679   \n",
       "2.0         41        9     50       0.180000  0.219512    0.081533 -1.516347   \n",
       "3.0         68       18     86       0.209302  0.264706    0.098319 -1.329136   \n",
       "4.0         39      105    144       0.729167  2.692308    1.000000  0.990399   \n",
       "\n",
       "          woe  \n",
       "cp             \n",
       "1.0 -1.817077  \n",
       "2.0 -2.506746  \n",
       "3.0 -2.319535  \n",
       "4.0  0.000000  "
      ]
     },
     "execution_count": 15,
     "metadata": {},
     "output_type": "execute_result"
    }
   ],
   "source": [
    "bivariada_cp"
   ]
  },
  {
   "cell_type": "code",
   "execution_count": 16,
   "metadata": {},
   "outputs": [
    {
     "data": {
      "text/html": [
       "<div>\n",
       "<style scoped>\n",
       "    .dataframe tbody tr th:only-of-type {\n",
       "        vertical-align: middle;\n",
       "    }\n",
       "\n",
       "    .dataframe tbody tr th {\n",
       "        vertical-align: top;\n",
       "    }\n",
       "\n",
       "    .dataframe thead th {\n",
       "        text-align: right;\n",
       "    }\n",
       "</style>\n",
       "<table border=\"1\" class=\"dataframe\">\n",
       "  <thead>\n",
       "    <tr style=\"text-align: right;\">\n",
       "      <th></th>\n",
       "      <th>saudaveis</th>\n",
       "      <th>doentes</th>\n",
       "      <th>total</th>\n",
       "      <th>media_doentes</th>\n",
       "      <th>odds</th>\n",
       "      <th>odds_ratio</th>\n",
       "      <th>logito</th>\n",
       "      <th>woe</th>\n",
       "    </tr>\n",
       "    <tr>\n",
       "      <th>restecg</th>\n",
       "      <th></th>\n",
       "      <th></th>\n",
       "      <th></th>\n",
       "      <th></th>\n",
       "      <th></th>\n",
       "      <th></th>\n",
       "      <th></th>\n",
       "      <th></th>\n",
       "    </tr>\n",
       "  </thead>\n",
       "  <tbody>\n",
       "    <tr>\n",
       "      <th>0.0</th>\n",
       "      <td>95</td>\n",
       "      <td>56</td>\n",
       "      <td>151</td>\n",
       "      <td>0.370861</td>\n",
       "      <td>0.589474</td>\n",
       "      <td>1.000000</td>\n",
       "      <td>-0.528525</td>\n",
       "      <td>0.000000</td>\n",
       "    </tr>\n",
       "    <tr>\n",
       "      <th>1.0</th>\n",
       "      <td>1</td>\n",
       "      <td>3</td>\n",
       "      <td>4</td>\n",
       "      <td>0.750000</td>\n",
       "      <td>3.000000</td>\n",
       "      <td>5.089286</td>\n",
       "      <td>1.098612</td>\n",
       "      <td>1.627137</td>\n",
       "    </tr>\n",
       "    <tr>\n",
       "      <th>2.0</th>\n",
       "      <td>68</td>\n",
       "      <td>80</td>\n",
       "      <td>148</td>\n",
       "      <td>0.540541</td>\n",
       "      <td>1.176471</td>\n",
       "      <td>1.995798</td>\n",
       "      <td>0.162519</td>\n",
       "      <td>0.691044</td>\n",
       "    </tr>\n",
       "  </tbody>\n",
       "</table>\n",
       "</div>"
      ],
      "text/plain": [
       "         saudaveis  doentes  total  media_doentes      odds  odds_ratio  \\\n",
       "restecg                                                                   \n",
       "0.0             95       56    151       0.370861  0.589474    1.000000   \n",
       "1.0              1        3      4       0.750000  3.000000    5.089286   \n",
       "2.0             68       80    148       0.540541  1.176471    1.995798   \n",
       "\n",
       "           logito       woe  \n",
       "restecg                      \n",
       "0.0     -0.528525  0.000000  \n",
       "1.0      1.098612  1.627137  \n",
       "2.0      0.162519  0.691044  "
      ]
     },
     "execution_count": 16,
     "metadata": {},
     "output_type": "execute_result"
    }
   ],
   "source": [
    "bivariada_restecg"
   ]
  },
  {
   "cell_type": "code",
   "execution_count": 17,
   "metadata": {},
   "outputs": [
    {
     "data": {
      "text/html": [
       "<div>\n",
       "<style scoped>\n",
       "    .dataframe tbody tr th:only-of-type {\n",
       "        vertical-align: middle;\n",
       "    }\n",
       "\n",
       "    .dataframe tbody tr th {\n",
       "        vertical-align: top;\n",
       "    }\n",
       "\n",
       "    .dataframe thead th {\n",
       "        text-align: right;\n",
       "    }\n",
       "</style>\n",
       "<table border=\"1\" class=\"dataframe\">\n",
       "  <thead>\n",
       "    <tr style=\"text-align: right;\">\n",
       "      <th></th>\n",
       "      <th>saudaveis</th>\n",
       "      <th>doentes</th>\n",
       "      <th>total</th>\n",
       "      <th>media_doentes</th>\n",
       "      <th>odds</th>\n",
       "      <th>odds_ratio</th>\n",
       "      <th>logito</th>\n",
       "      <th>woe</th>\n",
       "    </tr>\n",
       "    <tr>\n",
       "      <th>slope</th>\n",
       "      <th></th>\n",
       "      <th></th>\n",
       "      <th></th>\n",
       "      <th></th>\n",
       "      <th></th>\n",
       "      <th></th>\n",
       "      <th></th>\n",
       "      <th></th>\n",
       "    </tr>\n",
       "  </thead>\n",
       "  <tbody>\n",
       "    <tr>\n",
       "      <th>1.0</th>\n",
       "      <td>106</td>\n",
       "      <td>36</td>\n",
       "      <td>142</td>\n",
       "      <td>0.253521</td>\n",
       "      <td>0.339623</td>\n",
       "      <td>1.000000</td>\n",
       "      <td>-1.079920</td>\n",
       "      <td>0.000000</td>\n",
       "    </tr>\n",
       "    <tr>\n",
       "      <th>2.0</th>\n",
       "      <td>49</td>\n",
       "      <td>91</td>\n",
       "      <td>140</td>\n",
       "      <td>0.650000</td>\n",
       "      <td>1.857143</td>\n",
       "      <td>5.468254</td>\n",
       "      <td>0.619039</td>\n",
       "      <td>1.698959</td>\n",
       "    </tr>\n",
       "    <tr>\n",
       "      <th>3.0</th>\n",
       "      <td>9</td>\n",
       "      <td>12</td>\n",
       "      <td>21</td>\n",
       "      <td>0.571429</td>\n",
       "      <td>1.333333</td>\n",
       "      <td>3.925926</td>\n",
       "      <td>0.287682</td>\n",
       "      <td>1.367602</td>\n",
       "    </tr>\n",
       "  </tbody>\n",
       "</table>\n",
       "</div>"
      ],
      "text/plain": [
       "       saudaveis  doentes  total  media_doentes      odds  odds_ratio  \\\n",
       "slope                                                                   \n",
       "1.0          106       36    142       0.253521  0.339623    1.000000   \n",
       "2.0           49       91    140       0.650000  1.857143    5.468254   \n",
       "3.0            9       12     21       0.571429  1.333333    3.925926   \n",
       "\n",
       "         logito       woe  \n",
       "slope                      \n",
       "1.0   -1.079920  0.000000  \n",
       "2.0    0.619039  1.698959  \n",
       "3.0    0.287682  1.367602  "
      ]
     },
     "execution_count": 17,
     "metadata": {},
     "output_type": "execute_result"
    }
   ],
   "source": [
    "bivariada_slope"
   ]
  },
  {
   "cell_type": "raw",
   "metadata": {},
   "source": [
    "Para determinar qual variável discrimina melhor o risco de doença cardíaca, podemos olhar para os valores de Odds Ratio (OR) e Weight of Evidence (WOE) nas tabelas. Variáveis com ORs mais distantes de 1 e valores absolutos de WOE maiores indicam uma capacidade mais forte de discriminar entre grupos (saudáveis vs doentes).\n",
    "\n",
    "A variável slope parece ser a mais discriminativa para o risco de doença cardíaca, com o maior OR observado na categoria 2 (estável)."
   ]
  },
  {
   "cell_type": "markdown",
   "metadata": {},
   "source": [
    "2. Monte uma função semelhante para categorizar variáveis quantitativas contínuas (com muitas categorias) como ```age```.  \n",
    "    Além dos mesmos parâmetros da função anterior, defina mais um parâmetro como número de categorias que você deseja quebrar. Defina um valor '*default*' de 5 grupos para este parâmetro.  "
   ]
  },
  {
   "cell_type": "code",
   "execution_count": 18,
   "metadata": {},
   "outputs": [],
   "source": [
    "def bivariada_quantitativa(dataframe, var_resposta, var_explicativa, num_categorias=5):\n",
    "    # Dividindo a variável explicativa em categorias baseadas em quantis\n",
    "    dataframe['categoria'] = pd.qcut(dataframe[var_explicativa], q=num_categorias, duplicates='drop')\n",
    "    \n",
    "    # Agrupando os dados com base na nova categoria criada e na variável resposta\n",
    "    bivariada_df = dataframe.groupby(['categoria', var_resposta]).size().unstack(fill_value=0)\n",
    "    bivariada_df.columns = ['saudaveis', 'doentes']\n",
    "    \n",
    "    # Calculando o total, a média de doentes, odds e logito\n",
    "    bivariada_df['total'] = bivariada_df['saudaveis'] + bivariada_df['doentes']\n",
    "    bivariada_df['media_doentes'] = bivariada_df['doentes'] / bivariada_df['total']\n",
    "    bivariada_df['odds'] = bivariada_df['doentes'] / bivariada_df['saudaveis']\n",
    "    bivariada_df['logito'] = np.log(bivariada_df['odds'].replace(0, np.nan))\n",
    "    \n",
    "    # Selecionando a categoria com maior total como referência para Odds Ratio e WOE\n",
    "    ref_categoria = bivariada_df['total'].idxmax()\n",
    "    bivariada_df['odds_ratio'] = bivariada_df['odds'] / bivariada_df.loc[ref_categoria, 'odds']\n",
    "    bivariada_df['woe'] = np.log(bivariada_df['odds_ratio'].replace(0, np.nan))\n",
    "    \n",
    "    # Reordenando as colunas para melhor visualização\n",
    "    bivariada_df = bivariada_df[['saudaveis', 'doentes', 'total', 'media_doentes', 'odds', 'odds_ratio', 'logito', 'woe']]\n",
    "    \n",
    "    # Removendo a coluna categoria adicionada para análise\n",
    "    dataframe.drop('categoria', axis=1, inplace=True)\n",
    "    \n",
    "    return bivariada_df"
   ]
  },
  {
   "cell_type": "code",
   "execution_count": 27,
   "metadata": {},
   "outputs": [
    {
     "name": "stderr",
     "output_type": "stream",
     "text": [
      "C:\\Users\\Matheus Cerqueira\\AppData\\Local\\Temp\\ipykernel_21360\\3123464563.py:6: FutureWarning: The default of observed=False is deprecated and will be changed to True in a future version of pandas. Pass observed=False to retain current behavior or observed=True to adopt the future default and silence this warning.\n",
      "  bivariada_df = dataframe.groupby(['categoria', var_resposta]).size().unstack(fill_value=0)\n"
     ]
    },
    {
     "data": {
      "text/html": [
       "<div>\n",
       "<style scoped>\n",
       "    .dataframe tbody tr th:only-of-type {\n",
       "        vertical-align: middle;\n",
       "    }\n",
       "\n",
       "    .dataframe tbody tr th {\n",
       "        vertical-align: top;\n",
       "    }\n",
       "\n",
       "    .dataframe thead th {\n",
       "        text-align: right;\n",
       "    }\n",
       "</style>\n",
       "<table border=\"1\" class=\"dataframe\">\n",
       "  <thead>\n",
       "    <tr style=\"text-align: right;\">\n",
       "      <th></th>\n",
       "      <th>saudaveis</th>\n",
       "      <th>doentes</th>\n",
       "      <th>total</th>\n",
       "      <th>media_doentes</th>\n",
       "      <th>odds</th>\n",
       "      <th>odds_ratio</th>\n",
       "      <th>logito</th>\n",
       "      <th>woe</th>\n",
       "    </tr>\n",
       "    <tr>\n",
       "      <th>categoria</th>\n",
       "      <th></th>\n",
       "      <th></th>\n",
       "      <th></th>\n",
       "      <th></th>\n",
       "      <th></th>\n",
       "      <th></th>\n",
       "      <th></th>\n",
       "      <th></th>\n",
       "    </tr>\n",
       "  </thead>\n",
       "  <tbody>\n",
       "    <tr>\n",
       "      <th>(28.999, 45.0]</th>\n",
       "      <td>47</td>\n",
       "      <td>16</td>\n",
       "      <td>63</td>\n",
       "      <td>0.253968</td>\n",
       "      <td>0.340426</td>\n",
       "      <td>0.279324</td>\n",
       "      <td>-1.077559</td>\n",
       "      <td>-1.275385</td>\n",
       "    </tr>\n",
       "    <tr>\n",
       "      <th>(45.0, 53.0]</th>\n",
       "      <td>42</td>\n",
       "      <td>22</td>\n",
       "      <td>64</td>\n",
       "      <td>0.343750</td>\n",
       "      <td>0.523810</td>\n",
       "      <td>0.429792</td>\n",
       "      <td>-0.646627</td>\n",
       "      <td>-0.844453</td>\n",
       "    </tr>\n",
       "    <tr>\n",
       "      <th>(53.0, 58.0]</th>\n",
       "      <td>32</td>\n",
       "      <td>39</td>\n",
       "      <td>71</td>\n",
       "      <td>0.549296</td>\n",
       "      <td>1.218750</td>\n",
       "      <td>1.000000</td>\n",
       "      <td>0.197826</td>\n",
       "      <td>0.000000</td>\n",
       "    </tr>\n",
       "    <tr>\n",
       "      <th>(58.0, 62.0]</th>\n",
       "      <td>13</td>\n",
       "      <td>32</td>\n",
       "      <td>45</td>\n",
       "      <td>0.711111</td>\n",
       "      <td>2.461538</td>\n",
       "      <td>2.019724</td>\n",
       "      <td>0.900787</td>\n",
       "      <td>0.702961</td>\n",
       "    </tr>\n",
       "    <tr>\n",
       "      <th>(62.0, 77.0]</th>\n",
       "      <td>30</td>\n",
       "      <td>30</td>\n",
       "      <td>60</td>\n",
       "      <td>0.500000</td>\n",
       "      <td>1.000000</td>\n",
       "      <td>0.820513</td>\n",
       "      <td>0.000000</td>\n",
       "      <td>-0.197826</td>\n",
       "    </tr>\n",
       "  </tbody>\n",
       "</table>\n",
       "</div>"
      ],
      "text/plain": [
       "                saudaveis  doentes  total  media_doentes      odds  \\\n",
       "categoria                                                            \n",
       "(28.999, 45.0]         47       16     63       0.253968  0.340426   \n",
       "(45.0, 53.0]           42       22     64       0.343750  0.523810   \n",
       "(53.0, 58.0]           32       39     71       0.549296  1.218750   \n",
       "(58.0, 62.0]           13       32     45       0.711111  2.461538   \n",
       "(62.0, 77.0]           30       30     60       0.500000  1.000000   \n",
       "\n",
       "                odds_ratio    logito       woe  \n",
       "categoria                                       \n",
       "(28.999, 45.0]    0.279324 -1.077559 -1.275385  \n",
       "(45.0, 53.0]      0.429792 -0.646627 -0.844453  \n",
       "(53.0, 58.0]      1.000000  0.197826  0.000000  \n",
       "(58.0, 62.0]      2.019724  0.900787  0.702961  \n",
       "(62.0, 77.0]      0.820513  0.000000 -0.197826  "
      ]
     },
     "execution_count": 27,
     "metadata": {},
     "output_type": "execute_result"
    }
   ],
   "source": [
    "# Testando a função com a variável 'age'\n",
    "bivariada_quantitativa_df = bivariada_quantitativa(df, 'flag_doente', 'age')\n",
    "bivariada_quantitativa_df"
   ]
  },
  {
   "cell_type": "markdown",
   "metadata": {},
   "source": [
    "3. Construa um modelo de regressão logística com as variáveis qualitativas: ```sex + cp +  trestbps``` e com a variável quantitativa ```age```.\n",
    "\n",
    "**Interprete os parâmetros.**"
   ]
  },
  {
   "cell_type": "code",
   "execution_count": 34,
   "metadata": {},
   "outputs": [
    {
     "name": "stdout",
     "output_type": "stream",
     "text": [
      "Optimization terminated successfully.\n",
      "         Current function value: 0.476154\n",
      "         Iterations 6\n",
      "                           Logit Regression Results                           \n",
      "==============================================================================\n",
      "Dep. Variable:            flag_doente   No. Observations:                  303\n",
      "Model:                          Logit   Df Residuals:                      296\n",
      "Method:                           MLE   Df Model:                            6\n",
      "Date:                Tue, 02 Jul 2024   Pseudo R-squ.:                  0.3097\n",
      "Time:                        20:29:16   Log-Likelihood:                -144.27\n",
      "converged:                       True   LL-Null:                       -208.99\n",
      "Covariance Type:            nonrobust   LLR p-value:                 1.692e-25\n",
      "==============================================================================\n",
      "                 coef    std err          z      P>|z|      [0.025      0.975]\n",
      "------------------------------------------------------------------------------\n",
      "const         -8.3407      1.621     -5.145      0.000     -11.518      -5.163\n",
      "sex_1.0        1.8094      0.353      5.130      0.000       1.118       2.501\n",
      "cp_2.0        -0.0617      0.636     -0.097      0.923      -1.309       1.186\n",
      "cp_3.0         0.0715      0.573      0.125      0.901      -1.051       1.194\n",
      "cp_4.0         2.4789      0.553      4.485      0.000       1.396       3.562\n",
      "age            0.0567      0.018      3.120      0.002       0.021       0.092\n",
      "trestbps       0.0193      0.009      2.261      0.024       0.003       0.036\n",
      "==============================================================================\n"
     ]
    }
   ],
   "source": [
    "# Convertendo todas as colunas numéricas para float64\n",
    "X = X.astype(float)\n",
    "\n",
    "try:\n",
    "    modelo = sm.Logit(y, X)\n",
    "    resultado = modelo.fit()\n",
    "    print(resultado.summary())\n",
    "except Exception as e:\n",
    "    print(\"Erro ao ajustar o modelo:\", str(e))"
   ]
  },
  {
   "cell_type": "raw",
   "metadata": {},
   "source": [
    "Idade (age): O coeficiente de 0.057 sugere que cada ano adicional de idade aumenta a probabilidade de doença cardíaca em cerca de 5.67%.\n",
    "Pressão arterial em repouso (trestbps): Cada unidade adicional em mm Hg aumenta a probabilidade de doença cardíaca em 1.93%."
   ]
  },
  {
   "cell_type": "markdown",
   "metadata": {},
   "source": [
    "4. Avalie o seu modelo quanto a **calibragem**:\n",
    "- Calcule a probabilidade de evento predita segundo o seu modelo\n",
    "- Categorize essa probabilidade em G=5 grupos\n",
    "- Calcule a probabilidade de evento predita média por grupo\n",
    "- Calcule a taxa de eventos (média da variável indicadora de eventos) por grupo\n",
    "- Compare graficamente o valor eperado versus observado para a taxa de maus por grupo"
   ]
  },
  {
   "cell_type": "code",
   "execution_count": 35,
   "metadata": {},
   "outputs": [
    {
     "data": {
      "text/plain": [
       "0    0.458229\n",
       "1    0.944123\n",
       "2    0.886566\n",
       "3    0.134929\n",
       "4    0.027278\n",
       "dtype: float64"
      ]
     },
     "execution_count": 35,
     "metadata": {},
     "output_type": "execute_result"
    }
   ],
   "source": [
    "# Calculando as probabilidades preditas do modelo\n",
    "probabilidades_preditas = resultado.predict(X)\n",
    "\n",
    "probabilidades_preditas.head()"
   ]
  },
  {
   "cell_type": "code",
   "execution_count": 39,
   "metadata": {},
   "outputs": [
    {
     "data": {
      "text/plain": [
       "categoria_probabilidade\n",
       "0    62\n",
       "1    59\n",
       "2    62\n",
       "3    59\n",
       "4    61\n",
       "Name: count, dtype: int64"
      ]
     },
     "execution_count": 39,
     "metadata": {},
     "output_type": "execute_result"
    }
   ],
   "source": [
    "# Categorizando as probabilidades preditas em 5 grupos iguais\n",
    "categorias_probabilidades = pd.qcut(probabilidades_preditas, 5, labels=False, duplicates='drop')\n",
    "\n",
    "# Adicionando as categorias ao dataframe original\n",
    "df['categoria_probabilidade'] = categorias_probabilidades\n",
    "\n",
    "# Visualizando a distribuição das categorias\n",
    "df['categoria_probabilidade'].value_counts().sort_index()"
   ]
  },
  {
   "cell_type": "code",
   "execution_count": 40,
   "metadata": {},
   "outputs": [
    {
     "data": {
      "text/plain": [
       "categoria_probabilidade\n",
       "0    0.080645\n",
       "1    0.152542\n",
       "2    0.483871\n",
       "3    0.762712\n",
       "4    0.819672\n",
       "Name: flag_doente, dtype: float64"
      ]
     },
     "execution_count": 40,
     "metadata": {},
     "output_type": "execute_result"
    }
   ],
   "source": [
    "# Calculando a probabilidade média predita por grupo\n",
    "media_prob_predita_por_grupo = df.groupby('categoria_probabilidade')['flag_doente'].mean()\n",
    "\n",
    "media_prob_predita_por_grupo"
   ]
  },
  {
   "cell_type": "code",
   "execution_count": 44,
   "metadata": {},
   "outputs": [
    {
     "data": {
      "text/html": [
       "<div>\n",
       "<style scoped>\n",
       "    .dataframe tbody tr th:only-of-type {\n",
       "        vertical-align: middle;\n",
       "    }\n",
       "\n",
       "    .dataframe tbody tr th {\n",
       "        vertical-align: top;\n",
       "    }\n",
       "\n",
       "    .dataframe thead th {\n",
       "        text-align: right;\n",
       "    }\n",
       "</style>\n",
       "<table border=\"1\" class=\"dataframe\">\n",
       "  <thead>\n",
       "    <tr style=\"text-align: right;\">\n",
       "      <th></th>\n",
       "      <th>age</th>\n",
       "      <th>sex</th>\n",
       "      <th>cp</th>\n",
       "      <th>trestbps</th>\n",
       "      <th>chol</th>\n",
       "      <th>fbs</th>\n",
       "      <th>restecg</th>\n",
       "      <th>thalach</th>\n",
       "      <th>exang</th>\n",
       "      <th>oldpeak</th>\n",
       "      <th>slope</th>\n",
       "      <th>ca</th>\n",
       "      <th>thal</th>\n",
       "      <th>num</th>\n",
       "      <th>flag_doente</th>\n",
       "      <th>categoria_probabilidade</th>\n",
       "    </tr>\n",
       "  </thead>\n",
       "  <tbody>\n",
       "    <tr>\n",
       "      <th>0</th>\n",
       "      <td>63.0</td>\n",
       "      <td>1.0</td>\n",
       "      <td>1.0</td>\n",
       "      <td>145.0</td>\n",
       "      <td>233.0</td>\n",
       "      <td>1.0</td>\n",
       "      <td>2.0</td>\n",
       "      <td>150.0</td>\n",
       "      <td>0.0</td>\n",
       "      <td>2.3</td>\n",
       "      <td>3.0</td>\n",
       "      <td>0.0</td>\n",
       "      <td>6.0</td>\n",
       "      <td>0</td>\n",
       "      <td>0</td>\n",
       "      <td>2</td>\n",
       "    </tr>\n",
       "    <tr>\n",
       "      <th>1</th>\n",
       "      <td>67.0</td>\n",
       "      <td>1.0</td>\n",
       "      <td>4.0</td>\n",
       "      <td>160.0</td>\n",
       "      <td>286.0</td>\n",
       "      <td>0.0</td>\n",
       "      <td>2.0</td>\n",
       "      <td>108.0</td>\n",
       "      <td>1.0</td>\n",
       "      <td>1.5</td>\n",
       "      <td>2.0</td>\n",
       "      <td>3.0</td>\n",
       "      <td>3.0</td>\n",
       "      <td>2</td>\n",
       "      <td>1</td>\n",
       "      <td>4</td>\n",
       "    </tr>\n",
       "    <tr>\n",
       "      <th>2</th>\n",
       "      <td>67.0</td>\n",
       "      <td>1.0</td>\n",
       "      <td>4.0</td>\n",
       "      <td>120.0</td>\n",
       "      <td>229.0</td>\n",
       "      <td>0.0</td>\n",
       "      <td>2.0</td>\n",
       "      <td>129.0</td>\n",
       "      <td>1.0</td>\n",
       "      <td>2.6</td>\n",
       "      <td>2.0</td>\n",
       "      <td>2.0</td>\n",
       "      <td>7.0</td>\n",
       "      <td>1</td>\n",
       "      <td>1</td>\n",
       "      <td>4</td>\n",
       "    </tr>\n",
       "    <tr>\n",
       "      <th>3</th>\n",
       "      <td>37.0</td>\n",
       "      <td>1.0</td>\n",
       "      <td>3.0</td>\n",
       "      <td>130.0</td>\n",
       "      <td>250.0</td>\n",
       "      <td>0.0</td>\n",
       "      <td>0.0</td>\n",
       "      <td>187.0</td>\n",
       "      <td>0.0</td>\n",
       "      <td>3.5</td>\n",
       "      <td>3.0</td>\n",
       "      <td>0.0</td>\n",
       "      <td>3.0</td>\n",
       "      <td>0</td>\n",
       "      <td>0</td>\n",
       "      <td>0</td>\n",
       "    </tr>\n",
       "    <tr>\n",
       "      <th>4</th>\n",
       "      <td>41.0</td>\n",
       "      <td>0.0</td>\n",
       "      <td>2.0</td>\n",
       "      <td>130.0</td>\n",
       "      <td>204.0</td>\n",
       "      <td>0.0</td>\n",
       "      <td>2.0</td>\n",
       "      <td>172.0</td>\n",
       "      <td>0.0</td>\n",
       "      <td>1.4</td>\n",
       "      <td>1.0</td>\n",
       "      <td>0.0</td>\n",
       "      <td>3.0</td>\n",
       "      <td>0</td>\n",
       "      <td>0</td>\n",
       "      <td>0</td>\n",
       "    </tr>\n",
       "    <tr>\n",
       "      <th>...</th>\n",
       "      <td>...</td>\n",
       "      <td>...</td>\n",
       "      <td>...</td>\n",
       "      <td>...</td>\n",
       "      <td>...</td>\n",
       "      <td>...</td>\n",
       "      <td>...</td>\n",
       "      <td>...</td>\n",
       "      <td>...</td>\n",
       "      <td>...</td>\n",
       "      <td>...</td>\n",
       "      <td>...</td>\n",
       "      <td>...</td>\n",
       "      <td>...</td>\n",
       "      <td>...</td>\n",
       "      <td>...</td>\n",
       "    </tr>\n",
       "    <tr>\n",
       "      <th>298</th>\n",
       "      <td>45.0</td>\n",
       "      <td>1.0</td>\n",
       "      <td>1.0</td>\n",
       "      <td>110.0</td>\n",
       "      <td>264.0</td>\n",
       "      <td>0.0</td>\n",
       "      <td>0.0</td>\n",
       "      <td>132.0</td>\n",
       "      <td>0.0</td>\n",
       "      <td>1.2</td>\n",
       "      <td>2.0</td>\n",
       "      <td>0.0</td>\n",
       "      <td>7.0</td>\n",
       "      <td>1</td>\n",
       "      <td>1</td>\n",
       "      <td>0</td>\n",
       "    </tr>\n",
       "    <tr>\n",
       "      <th>299</th>\n",
       "      <td>68.0</td>\n",
       "      <td>1.0</td>\n",
       "      <td>4.0</td>\n",
       "      <td>144.0</td>\n",
       "      <td>193.0</td>\n",
       "      <td>1.0</td>\n",
       "      <td>0.0</td>\n",
       "      <td>141.0</td>\n",
       "      <td>0.0</td>\n",
       "      <td>3.4</td>\n",
       "      <td>2.0</td>\n",
       "      <td>2.0</td>\n",
       "      <td>7.0</td>\n",
       "      <td>2</td>\n",
       "      <td>1</td>\n",
       "      <td>4</td>\n",
       "    </tr>\n",
       "    <tr>\n",
       "      <th>300</th>\n",
       "      <td>57.0</td>\n",
       "      <td>1.0</td>\n",
       "      <td>4.0</td>\n",
       "      <td>130.0</td>\n",
       "      <td>131.0</td>\n",
       "      <td>0.0</td>\n",
       "      <td>0.0</td>\n",
       "      <td>115.0</td>\n",
       "      <td>1.0</td>\n",
       "      <td>1.2</td>\n",
       "      <td>2.0</td>\n",
       "      <td>1.0</td>\n",
       "      <td>7.0</td>\n",
       "      <td>3</td>\n",
       "      <td>1</td>\n",
       "      <td>4</td>\n",
       "    </tr>\n",
       "    <tr>\n",
       "      <th>301</th>\n",
       "      <td>57.0</td>\n",
       "      <td>0.0</td>\n",
       "      <td>2.0</td>\n",
       "      <td>130.0</td>\n",
       "      <td>236.0</td>\n",
       "      <td>0.0</td>\n",
       "      <td>2.0</td>\n",
       "      <td>174.0</td>\n",
       "      <td>0.0</td>\n",
       "      <td>0.0</td>\n",
       "      <td>2.0</td>\n",
       "      <td>1.0</td>\n",
       "      <td>3.0</td>\n",
       "      <td>1</td>\n",
       "      <td>1</td>\n",
       "      <td>0</td>\n",
       "    </tr>\n",
       "    <tr>\n",
       "      <th>302</th>\n",
       "      <td>38.0</td>\n",
       "      <td>1.0</td>\n",
       "      <td>3.0</td>\n",
       "      <td>138.0</td>\n",
       "      <td>175.0</td>\n",
       "      <td>0.0</td>\n",
       "      <td>0.0</td>\n",
       "      <td>173.0</td>\n",
       "      <td>0.0</td>\n",
       "      <td>0.0</td>\n",
       "      <td>1.0</td>\n",
       "      <td>0.0</td>\n",
       "      <td>3.0</td>\n",
       "      <td>0</td>\n",
       "      <td>0</td>\n",
       "      <td>1</td>\n",
       "    </tr>\n",
       "  </tbody>\n",
       "</table>\n",
       "<p>303 rows × 16 columns</p>\n",
       "</div>"
      ],
      "text/plain": [
       "      age  sex   cp  trestbps   chol  fbs  restecg  thalach  exang  oldpeak  \\\n",
       "0    63.0  1.0  1.0     145.0  233.0  1.0      2.0    150.0    0.0      2.3   \n",
       "1    67.0  1.0  4.0     160.0  286.0  0.0      2.0    108.0    1.0      1.5   \n",
       "2    67.0  1.0  4.0     120.0  229.0  0.0      2.0    129.0    1.0      2.6   \n",
       "3    37.0  1.0  3.0     130.0  250.0  0.0      0.0    187.0    0.0      3.5   \n",
       "4    41.0  0.0  2.0     130.0  204.0  0.0      2.0    172.0    0.0      1.4   \n",
       "..    ...  ...  ...       ...    ...  ...      ...      ...    ...      ...   \n",
       "298  45.0  1.0  1.0     110.0  264.0  0.0      0.0    132.0    0.0      1.2   \n",
       "299  68.0  1.0  4.0     144.0  193.0  1.0      0.0    141.0    0.0      3.4   \n",
       "300  57.0  1.0  4.0     130.0  131.0  0.0      0.0    115.0    1.0      1.2   \n",
       "301  57.0  0.0  2.0     130.0  236.0  0.0      2.0    174.0    0.0      0.0   \n",
       "302  38.0  1.0  3.0     138.0  175.0  0.0      0.0    173.0    0.0      0.0   \n",
       "\n",
       "     slope   ca  thal  num  flag_doente  categoria_probabilidade  \n",
       "0      3.0  0.0   6.0    0            0                        2  \n",
       "1      2.0  3.0   3.0    2            1                        4  \n",
       "2      2.0  2.0   7.0    1            1                        4  \n",
       "3      3.0  0.0   3.0    0            0                        0  \n",
       "4      1.0  0.0   3.0    0            0                        0  \n",
       "..     ...  ...   ...  ...          ...                      ...  \n",
       "298    2.0  0.0   7.0    1            1                        0  \n",
       "299    2.0  2.0   7.0    2            1                        4  \n",
       "300    2.0  1.0   7.0    3            1                        4  \n",
       "301    2.0  1.0   3.0    1            1                        0  \n",
       "302    1.0  0.0   3.0    0            0                        1  \n",
       "\n",
       "[303 rows x 16 columns]"
      ]
     },
     "execution_count": 44,
     "metadata": {},
     "output_type": "execute_result"
    }
   ],
   "source": [
    "df"
   ]
  },
  {
   "cell_type": "code",
   "execution_count": 43,
   "metadata": {},
   "outputs": [
    {
     "data": {
      "image/png": "[encoded data removed]",
      "text/plain": [
       "<Figure size 1000x600 with 1 Axes>"
      ]
     },
     "metadata": {},
     "output_type": "display_data"
    }
   ],
   "source": [
    "grupos = range(1, 6)  # Grupos de 1 a 5\n",
    "taxa_observada = media_prob_predita_por_grupo.values\n",
    "\n",
    "plt.figure(figsize=(10, 6))\n",
    "plt.plot(grupos, taxa_observada, label='Taxa Observada', marker='o')\n",
    "plt.plot(grupos, taxa_observada, label='Taxa Predita', linestyle='--', marker='x')\n",
    "plt.title('Comparação da Taxa de Eventos Observada vs. Predita por Grupo')\n",
    "plt.xlabel('Grupo de Probabilidade')\n",
    "plt.ylabel('Taxa de Eventos')\n",
    "plt.xticks(grupos)\n",
    "plt.legend()\n",
    "plt.grid(True)\n",
    "plt.show()"
   ]
  },
  {
   "cell_type": "markdown",
   "metadata": {},
   "source": [
    "5. Avalie o seu modelo quanto a discriminação calculando acurácia, GINI e KS."
   ]
  },
  {
   "cell_type": "code",
   "execution_count": 48,
   "metadata": {},
   "outputs": [
    {
     "data": {
      "text/plain": [
       "0.7953795379537953"
      ]
     },
     "execution_count": 48,
     "metadata": {},
     "output_type": "execute_result"
    }
   ],
   "source": [
    "# Calculando predições binárias com limiar de 0.5\n",
    "predicoes_binarias = (probabilidades_preditas >= 0.5).astype(int)\n",
    "\n",
    "acuracia = accuracy_score(y, predicoes_binarias)\n",
    "acuracia"
   ]
  },
  {
   "cell_type": "code",
   "execution_count": 50,
   "metadata": {},
   "outputs": [
    {
     "data": {
      "text/plain": [
       "(0.8519477101245833, 0.7038954202491665)"
      ]
     },
     "execution_count": 50,
     "metadata": {},
     "output_type": "execute_result"
    }
   ],
   "source": [
    "# Calculando a área sob a curva ROC (AUC)\n",
    "auc = roc_auc_score(y, probabilidades_preditas)\n",
    "\n",
    "# Calculando o GINI\n",
    "gini = 2 * auc - 1\n",
    "auc, gini"
   ]
  },
  {
   "cell_type": "code",
   "execution_count": 52,
   "metadata": {},
   "outputs": [
    {
     "data": {
      "text/plain": [
       "(0.5929549043691876, 3.890148919718764e-25)"
      ]
     },
     "execution_count": 52,
     "metadata": {},
     "output_type": "execute_result"
    }
   ],
   "source": [
    "# Predições de eventos positivos e negativos\n",
    "positivos = probabilidades_preditas[y == 1]\n",
    "negativos = probabilidades_preditas[y == 0]\n",
    "\n",
    "# Calculando a estatística KS\n",
    "ks_statistic, ks_pvalue = ks_2samp(positivos, negativos)\n",
    "ks_statistic, ks_pvalue"
   ]
  },
  {
   "cell_type": "raw",
   "metadata": {},
   "source": [
    "A estatística KS para o modelo é aproximadamente 0.593, o que indica uma boa capacidade de separação entre as distribuições cumulativas dos eventos positivos e negativos. O valor-p associado é extremamente pequeno, indicando que a diferença observada é estatisticamente significativa."
   ]
  },
  {
   "cell_type": "markdown",
   "metadata": {},
   "source": [
    "6. tente melhorar o modelo obtido, por exemplo inserindo ou removendo variáveis.  \n",
    "    Avalie as características do seu modelo (calibragem e acurácia)."
   ]
  },
  {
   "cell_type": "code",
   "execution_count": 65,
   "metadata": {},
   "outputs": [
    {
     "data": {
      "text/plain": [
       "Index(['age', 'sex', 'cp', 'trestbps', 'chol', 'fbs', 'restecg', 'thalach',\n",
       "       'exang', 'oldpeak', 'slope', 'ca', 'thal', 'num', 'flag_doente',\n",
       "       'categoria_probabilidade', 'sex_numeric', 'age_sex_interaction'],\n",
       "      dtype='object')"
      ]
     },
     "execution_count": 65,
     "metadata": {},
     "output_type": "execute_result"
    }
   ],
   "source": [
    "df.columns"
   ]
  },
  {
   "cell_type": "code",
   "execution_count": 66,
   "metadata": {},
   "outputs": [
    {
     "name": "stdout",
     "output_type": "stream",
     "text": [
      "Optimization terminated successfully.\n",
      "         Current function value: 0.430571\n",
      "         Iterations 7\n",
      "                           Logit Regression Results                           \n",
      "==============================================================================\n",
      "Dep. Variable:            flag_doente   No. Observations:                  303\n",
      "Model:                          Logit   Df Residuals:                      294\n",
      "Method:                           MLE   Df Model:                            8\n",
      "Date:                Tue, 02 Jul 2024   Pseudo R-squ.:                  0.3757\n",
      "Time:                        20:53:59   Log-Likelihood:                -130.46\n",
      "converged:                       True   LL-Null:                       -208.99\n",
      "Covariance Type:            nonrobust   LLR p-value:                 6.596e-30\n",
      "=======================================================================================\n",
      "                          coef    std err          z      P>|z|      [0.025      0.975]\n",
      "---------------------------------------------------------------------------------------\n",
      "const                  -4.3495      2.909     -1.495      0.135     -10.051       1.352\n",
      "sex_1.0                 2.6535      2.516      1.055      0.292      -2.278       7.585\n",
      "cp_4.0                  1.8976      0.335      5.671      0.000       1.242       2.554\n",
      "age                     0.0343      0.038      0.912      0.362      -0.039       0.108\n",
      "trestbps                0.0221      0.009      2.412      0.016       0.004       0.040\n",
      "chol                    0.0063      0.003      1.978      0.048    5.73e-05       0.012\n",
      "thalach                -0.0318      0.009     -3.527      0.000      -0.050      -0.014\n",
      "age_sex_interaction    -0.0122      0.043     -0.285      0.776      -0.096       0.072\n",
      "exang_1.0               0.8447      0.367      2.299      0.022       0.125       1.565\n",
      "=======================================================================================\n"
     ]
    }
   ],
   "source": [
    "# Convertendo todas as colunas de X_new para float64\n",
    "X_new = X_new.astype(float)\n",
    "\n",
    "# Tentando ajustar o modelo novamente\n",
    "try:\n",
    "    modelo_novo = sm.Logit(y, X_new)\n",
    "    resultado_novo = modelo_novo.fit()\n",
    "    print(resultado_novo.summary())\n",
    "except Exception as e:\n",
    "    print(\"Erro ao ajustar o modelo:\", str(e))"
   ]
  },
  {
   "cell_type": "code",
   "execution_count": 68,
   "metadata": {},
   "outputs": [],
   "source": [
    "probabilidades_preditas_novo = resultado_novo.predict(X_new)"
   ]
  },
  {
   "cell_type": "code",
   "execution_count": 71,
   "metadata": {},
   "outputs": [
    {
     "data": {
      "text/plain": [
       "(0.8052805280528053,\n",
       " 0.8823477803123355,\n",
       " 0.764695560624671,\n",
       " 0.6123442709247237,\n",
       " 6.590546774661342e-27)"
      ]
     },
     "execution_count": 71,
     "metadata": {},
     "output_type": "execute_result"
    }
   ],
   "source": [
    "# Calculando a acurácia novamente com o modelo melhorado\n",
    "acuracia_novo = accuracy_score(y, (probabilidades_preditas_novo >= 0.5).astype(int))\n",
    "\n",
    "# AUC e GINI\n",
    "auc_novo = roc_auc_score(y, probabilidades_preditas_novo)\n",
    "gini_novo = 2 * auc_novo - 1\n",
    "\n",
    "# KS\n",
    "positivos_novo = probabilidades_preditas_novo[y == 1]\n",
    "negativos_novo = probabilidades_preditas_novo[y == 0]\n",
    "ks_statistic_novo, ks_pvalue_novo = ks_2samp(positivos_novo, negativos_novo)\n",
    "\n",
    "acuracia_novo, auc_novo, gini_novo, ks_statistic_novo, ks_pvalue_novo"
   ]
  },
  {
   "cell_type": "raw",
   "metadata": {},
   "source": [
    "Essas métricas indicam que o modelo ajustado melhorou em termos de capacidade discriminatória e precisão, com uma melhora notável em comparação com a versão anterior do modelo."
   ]
  }
 ],
 "metadata": {
  "kernelspec": {
   "display_name": "Python 3 (ipykernel)",
   "language": "python",
   "name": "python3"
  },
  "language_info": {
   "codemirror_mode": {
    "name": "ipython",
    "version": 3
   },
   "file_extension": ".py",
   "mimetype": "text/x-python",
   "name": "python",
   "nbconvert_exporter": "python",
   "pygments_lexer": "ipython3",
   "version": "3.11.7"
  }
 },
 "nbformat": 4,
 "nbformat_minor": 4
}
