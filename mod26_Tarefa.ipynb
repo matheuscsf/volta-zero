{
 "cells": [
  {
   "cell_type": "markdown",
   "metadata": {},
   "source": [
    "# Tarefa - Álgebra Linear\n",
    "\n",
    "A célula abaixo gera dados de notas de duas provas, p1 e p2, conforme em aula, mas com mais alunos.\n",
    "\n",
    "## 1. Reduzindo correlações\n",
    "\n",
    "a) Já vimos que expressar os dados através da média e diferença é uma transformação linear. Obtenha a média e a diferença através de uma multiplicação matricial, conforme visto em aula.\n",
    "\n",
    "b) Calcule a correlação entre os dados da **p1** e **p2**\n",
    "\n",
    "c) Calcule a correlação entre os dados transformados (média e diferença)\n",
    "\n",
    "d) Comente as correlações observadas."
   ]
  },
  {
   "cell_type": "code",
   "execution_count": 1,
   "metadata": {},
   "outputs": [],
   "source": [
    "import pandas as pd\n",
    "import seaborn as sns\n",
    "import numpy as np\n",
    "import matplotlib.pyplot as plt\n",
    "\n",
    "%matplotlib inline\n",
    "\n",
    "# Gerando os dados\n",
    "np.random.seed(123)\n",
    "\n",
    "p1 = np.random.random(50) *10\n",
    "p1[p1>10] = 10\n",
    "p1[p1<0] = 0\n",
    "\n",
    "p2 = p1 + np.random.normal(0,1,50)\n",
    "p2[p2>10] = 10\n",
    "p2[p2<0] = 0\n",
    "\n",
    "df = pd.DataFrame({'p1': p1, 'p2': p2})"
   ]
  },
  {
   "cell_type": "code",
   "execution_count": 4,
   "metadata": {},
   "outputs": [
    {
     "data": {
      "text/html": [
       "<div>\n",
       "<style scoped>\n",
       "    .dataframe tbody tr th:only-of-type {\n",
       "        vertical-align: middle;\n",
       "    }\n",
       "\n",
       "    .dataframe tbody tr th {\n",
       "        vertical-align: top;\n",
       "    }\n",
       "\n",
       "    .dataframe thead th {\n",
       "        text-align: right;\n",
       "    }\n",
       "</style>\n",
       "<table border=\"1\" class=\"dataframe\">\n",
       "  <thead>\n",
       "    <tr style=\"text-align: right;\">\n",
       "      <th></th>\n",
       "      <th>Média (p1, p2)</th>\n",
       "      <th>Diferença (p1 - p2)</th>\n",
       "    </tr>\n",
       "  </thead>\n",
       "  <tbody>\n",
       "    <tr>\n",
       "      <th>0</th>\n",
       "      <td>7.454060</td>\n",
       "      <td>-0.978736</td>\n",
       "    </tr>\n",
       "    <tr>\n",
       "      <th>1</th>\n",
       "      <td>3.980465</td>\n",
       "      <td>-2.238143</td>\n",
       "    </tr>\n",
       "    <tr>\n",
       "      <th>2</th>\n",
       "      <td>1.621472</td>\n",
       "      <td>1.294085</td>\n",
       "    </tr>\n",
       "    <tr>\n",
       "      <th>3</th>\n",
       "      <td>4.993754</td>\n",
       "      <td>1.038788</td>\n",
       "    </tr>\n",
       "    <tr>\n",
       "      <th>4</th>\n",
       "      <td>8.066546</td>\n",
       "      <td>-1.743712</td>\n",
       "    </tr>\n",
       "  </tbody>\n",
       "</table>\n",
       "</div>"
      ],
      "text/plain": [
       "   Média (p1, p2)  Diferença (p1 - p2)\n",
       "0        7.454060            -0.978736\n",
       "1        3.980465            -2.238143\n",
       "2        1.621472             1.294085\n",
       "3        4.993754             1.038788\n",
       "4        8.066546            -1.743712"
      ]
     },
     "execution_count": 4,
     "metadata": {},
     "output_type": "execute_result"
    }
   ],
   "source": [
    "# Matriz de dados\n",
    "data_matriz = df.to_numpy()\n",
    "\n",
    "# Vetores para multiplicação\n",
    "vetor_media = np.array([[0.5], [0.5]])\n",
    "vetor_diferenca = np.array([[1], [-1]])\n",
    "\n",
    "# Cálculo da média e diferença usando multiplicação matricial\n",
    "media = data_matriz @ vetor_media\n",
    "diferenca = data_matriz @ vetor_diferenca\n",
    "\n",
    "# Convertendo os resultados para DataFrame para uma melhor visualização\n",
    "resultados = pd.DataFrame({\n",
    "    'Média (p1, p2)': media.flatten(),\n",
    "    'Diferença (p1 - p2)': diferenca.flatten()\n",
    "})\n",
    "\n",
    "resultados.head()"
   ]
  },
  {
   "cell_type": "code",
   "execution_count": 5,
   "metadata": {},
   "outputs": [
    {
     "data": {
      "text/html": [
       "<div>\n",
       "<style scoped>\n",
       "    .dataframe tbody tr th:only-of-type {\n",
       "        vertical-align: middle;\n",
       "    }\n",
       "\n",
       "    .dataframe tbody tr th {\n",
       "        vertical-align: top;\n",
       "    }\n",
       "\n",
       "    .dataframe thead th {\n",
       "        text-align: right;\n",
       "    }\n",
       "</style>\n",
       "<table border=\"1\" class=\"dataframe\">\n",
       "  <thead>\n",
       "    <tr style=\"text-align: right;\">\n",
       "      <th></th>\n",
       "      <th>p1</th>\n",
       "      <th>p2</th>\n",
       "    </tr>\n",
       "  </thead>\n",
       "  <tbody>\n",
       "    <tr>\n",
       "      <th>p1</th>\n",
       "      <td>1.000000</td>\n",
       "      <td>0.895737</td>\n",
       "    </tr>\n",
       "    <tr>\n",
       "      <th>p2</th>\n",
       "      <td>0.895737</td>\n",
       "      <td>1.000000</td>\n",
       "    </tr>\n",
       "  </tbody>\n",
       "</table>\n",
       "</div>"
      ],
      "text/plain": [
       "          p1        p2\n",
       "p1  1.000000  0.895737\n",
       "p2  0.895737  1.000000"
      ]
     },
     "execution_count": 5,
     "metadata": {},
     "output_type": "execute_result"
    }
   ],
   "source": [
    "# Cálculo da correlação entre p1 e p2\n",
    "correlacao = df.corr()\n",
    "correlacao"
   ]
  },
  {
   "cell_type": "code",
   "execution_count": 6,
   "metadata": {},
   "outputs": [
    {
     "data": {
      "text/html": [
       "<div>\n",
       "<style scoped>\n",
       "    .dataframe tbody tr th:only-of-type {\n",
       "        vertical-align: middle;\n",
       "    }\n",
       "\n",
       "    .dataframe tbody tr th {\n",
       "        vertical-align: top;\n",
       "    }\n",
       "\n",
       "    .dataframe thead th {\n",
       "        text-align: right;\n",
       "    }\n",
       "</style>\n",
       "<table border=\"1\" class=\"dataframe\">\n",
       "  <thead>\n",
       "    <tr style=\"text-align: right;\">\n",
       "      <th></th>\n",
       "      <th>Média</th>\n",
       "      <th>Diferença</th>\n",
       "    </tr>\n",
       "  </thead>\n",
       "  <tbody>\n",
       "    <tr>\n",
       "      <th>Média</th>\n",
       "      <td>1.000000</td>\n",
       "      <td>-0.133474</td>\n",
       "    </tr>\n",
       "    <tr>\n",
       "      <th>Diferença</th>\n",
       "      <td>-0.133474</td>\n",
       "      <td>1.000000</td>\n",
       "    </tr>\n",
       "  </tbody>\n",
       "</table>\n",
       "</div>"
      ],
      "text/plain": [
       "              Média  Diferença\n",
       "Média      1.000000  -0.133474\n",
       "Diferença -0.133474   1.000000"
      ]
     },
     "execution_count": 6,
     "metadata": {},
     "output_type": "execute_result"
    }
   ],
   "source": [
    "# Criando DataFrame com as transformações de média e diferença\n",
    "transformados_df = pd.DataFrame({\n",
    "    'Média': media.flatten(),\n",
    "    'Diferença': diferenca.flatten()\n",
    "})\n",
    "\n",
    "# Cálculo da correlação entre média e diferença\n",
    "correlacao_transformados = transformados_df.corr()\n",
    "correlacao_transformados"
   ]
  },
  {
   "cell_type": "raw",
   "metadata": {},
   "source": [
    "A correlação entre os dados transformados de média e diferença é aproximadamente -0.133.Isso sugere que a média e a diferença entre p1 e p2 têm pouca relação linear entre si."
   ]
  },
  {
   "cell_type": "markdown",
   "metadata": {},
   "source": [
    "## 2. Soma e diferença\n",
    "\n",
    "Realize agora uma transformação semelhante, mas que ao invés da média, dê a soma da **p1** e **p2**. Construa o gráfico e conclua que diferenças visuais você observa."
   ]
  },
  {
   "cell_type": "code",
   "execution_count": 7,
   "metadata": {},
   "outputs": [
    {
     "data": {
      "image/png": "[encoded data removed]",
      "text/plain": [
       "<Figure size 1200x600 with 2 Axes>"
      ]
     },
     "metadata": {},
     "output_type": "display_data"
    }
   ],
   "source": [
    "# Calculando a soma de p1 e p2\n",
    "soma = data_matrix @ np.array([[1], [1]])\n",
    "\n",
    "# Adicionando a soma ao DataFrame existente para comparação\n",
    "transformados_df['Soma'] = soma.flatten()\n",
    "\n",
    "# Plotando gráficos para visualizar as transformações\n",
    "plt.figure(figsize=(12, 6))\n",
    "\n",
    "# Gráfico da soma\n",
    "plt.subplot(1, 2, 1)\n",
    "sns.scatterplot(x=transformados_df.index, y='Soma', data=transformados_df, color='blue', label='Soma (p1 + p2)')\n",
    "plt.title('Soma de p1 e p2')\n",
    "plt.xlabel('Index')\n",
    "plt.ylabel('Soma')\n",
    "\n",
    "# Gráfico da diferença\n",
    "plt.subplot(1, 2, 2)\n",
    "sns.scatterplot(x=transformados_df.index, y='Diferença', data=transformados_df, color='red', label='Diferença (p1 - p2)')\n",
    "plt.title('Diferença entre p1 e p2')\n",
    "plt.xlabel('Index')\n",
    "plt.ylabel('Diferença')\n",
    "\n",
    "plt.tight_layout()\n",
    "plt.show()"
   ]
  },
  {
   "cell_type": "raw",
   "metadata": {},
   "source": [
    "Enquanto o gráfico da soma mostra valores altos e uma distribuição ampla devido à adição de dois conjuntos de dados, o gráfico da diferença revela uma variação mais contida e centralizada."
   ]
  },
  {
   "cell_type": "code",
   "execution_count": null,
   "metadata": {},
   "outputs": [],
   "source": []
  }
 ],
 "metadata": {
  "kernelspec": {
   "display_name": "Python 3 (ipykernel)",
   "language": "python",
   "name": "python3"
  },
  "language_info": {
   "codemirror_mode": {
    "name": "ipython",
    "version": 3
   },
   "file_extension": ".py",
   "mimetype": "text/x-python",
   "name": "python",
   "nbconvert_exporter": "python",
   "pygments_lexer": "ipython3",
   "version": "3.11.7"
  },
  "toc": {
   "base_numbering": 1,
   "nav_menu": {},
   "number_sections": false,
   "sideBar": true,
   "skip_h1_title": false,
   "title_cell": "Índice",
   "title_sidebar": "Conteúdo",
   "toc_cell": false,
   "toc_position": {
    "height": "calc(100% - 180px)",
    "left": "10px",
    "top": "150px",
    "width": "257.6px"
   },
   "toc_section_display": true,
   "toc_window_display": false
  },
  "varInspector": {
   "cols": {
    "lenName": 16,
    "lenType": 16,
    "lenVar": 40
   },
   "kernels_config": {
    "python": {
     "delete_cmd_postfix": "",
     "delete_cmd_prefix": "del ",
     "library": "var_list.py",
     "varRefreshCmd": "print(var_dic_list())"
    },
    "r": {
     "delete_cmd_postfix": ") ",
     "delete_cmd_prefix": "rm(",
     "library": "var_list.r",
     "varRefreshCmd": "cat(var_dic_list()) "
    }
   },
   "types_to_exclude": [
    "module",
    "function",
    "builtin_function_or_method",
    "instance",
    "_Feature"
   ],
   "window_display": false
  }
 },
 "nbformat": 4,
 "nbformat_minor": 4
}
